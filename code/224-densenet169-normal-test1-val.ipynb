{
 "cells": [
  {
   "cell_type": "code",
   "execution_count": 1,
   "id": "3b00bff2",
   "metadata": {
    "_cell_guid": "b1076dfc-b9ad-4769-8c92-a6c4dae69d19",
    "_uuid": "8f2839f25d086af736a60e9eeb907d3b93b6e0e5",
    "execution": {
     "iopub.execute_input": "2022-10-14T23:14:25.110489Z",
     "iopub.status.busy": "2022-10-14T23:14:25.109670Z",
     "iopub.status.idle": "2022-10-14T23:14:31.772639Z",
     "shell.execute_reply": "2022-10-14T23:14:31.771868Z",
     "shell.execute_reply.started": "2021-11-24T10:34:50.103172Z"
    },
    "papermill": {
     "duration": 6.696978,
     "end_time": "2022-10-14T23:14:31.772877",
     "exception": false,
     "start_time": "2022-10-14T23:14:25.075899",
     "status": "completed"
    },
    "tags": []
   },
   "outputs": [
    {
     "name": "stderr",
     "output_type": "stream",
     "text": [
      "2022-10-14 23:14:25.861638: W tensorflow/stream_executor/platform/default/dso_loader.cc:60] Could not load dynamic library 'libcudart.so.11.0'; dlerror: libcudart.so.11.0: cannot open shared object file: No such file or directory; LD_LIBRARY_PATH: /opt/conda/lib\n",
      "2022-10-14 23:14:25.861797: I tensorflow/stream_executor/cuda/cudart_stub.cc:29] Ignore above cudart dlerror if you do not have a GPU set up on your machine.\n"
     ]
    },
    {
     "name": "stdout",
     "output_type": "stream",
     "text": [
      "Tensorflow version 2.4.1\n"
     ]
    }
   ],
   "source": [
    "import math, re, os\n",
    "import tensorflow as tf\n",
    "import numpy as np\n",
    "from matplotlib import pyplot as plt\n",
    "from kaggle_datasets import KaggleDatasets\n",
    "from sklearn.metrics import f1_score, precision_score, recall_score, confusion_matrix\n",
    "from tensorflow.keras.applications import ResNet50,ResNet101,ResNet152,DenseNet169,ResNet152\n",
    "print(\"Tensorflow version \" + tf.__version__)\n"
   ]
  },
  {
   "cell_type": "markdown",
   "id": "e55b189d",
   "metadata": {
    "papermill": {
     "duration": 0.016626,
     "end_time": "2022-10-14T23:14:31.806374",
     "exception": false,
     "start_time": "2022-10-14T23:14:31.789748",
     "status": "completed"
    },
    "tags": []
   },
   "source": [
    "# Configurations"
   ]
  },
  {
   "cell_type": "code",
   "execution_count": 2,
   "id": "5657c313",
   "metadata": {
    "execution": {
     "iopub.execute_input": "2022-10-14T23:14:31.842894Z",
     "iopub.status.busy": "2022-10-14T23:14:31.841965Z",
     "iopub.status.idle": "2022-10-14T23:14:38.266702Z",
     "shell.execute_reply": "2022-10-14T23:14:38.265961Z",
     "shell.execute_reply.started": "2021-11-24T10:34:50.113048Z"
    },
    "papermill": {
     "duration": 6.444185,
     "end_time": "2022-10-14T23:14:38.266867",
     "exception": false,
     "start_time": "2022-10-14T23:14:31.822682",
     "status": "completed"
    },
    "tags": []
   },
   "outputs": [
    {
     "name": "stderr",
     "output_type": "stream",
     "text": [
      "2022-10-14 23:14:31.848609: I tensorflow/compiler/jit/xla_cpu_device.cc:41] Not creating XLA devices, tf_xla_enable_xla_devices not set\n",
      "2022-10-14 23:14:31.851409: W tensorflow/stream_executor/platform/default/dso_loader.cc:60] Could not load dynamic library 'libcuda.so.1'; dlerror: libcuda.so.1: cannot open shared object file: No such file or directory; LD_LIBRARY_PATH: /opt/conda/lib\n",
      "2022-10-14 23:14:31.851452: W tensorflow/stream_executor/cuda/cuda_driver.cc:326] failed call to cuInit: UNKNOWN ERROR (303)\n",
      "2022-10-14 23:14:31.851483: I tensorflow/stream_executor/cuda/cuda_diagnostics.cc:156] kernel driver does not appear to be running on this host (c9a0b2344bd5): /proc/driver/nvidia/version does not exist\n",
      "2022-10-14 23:14:31.854397: I tensorflow/core/platform/cpu_feature_guard.cc:142] This TensorFlow binary is optimized with oneAPI Deep Neural Network Library (oneDNN) to use the following CPU instructions in performance-critical operations:  AVX2 FMA\n",
      "To enable them in other operations, rebuild TensorFlow with the appropriate compiler flags.\n",
      "2022-10-14 23:14:31.856176: I tensorflow/compiler/jit/xla_gpu_device.cc:99] Not creating XLA devices, tf_xla_enable_xla_devices not set\n",
      "2022-10-14 23:14:31.889624: I tensorflow/core/distributed_runtime/rpc/grpc_channel.cc:301] Initialize GrpcChannelCache for job worker -> {0 -> 10.0.0.2:8470}\n",
      "2022-10-14 23:14:31.889685: I tensorflow/core/distributed_runtime/rpc/grpc_channel.cc:301] Initialize GrpcChannelCache for job localhost -> {0 -> localhost:30019}\n",
      "2022-10-14 23:14:31.916430: I tensorflow/core/distributed_runtime/rpc/grpc_channel.cc:301] Initialize GrpcChannelCache for job worker -> {0 -> 10.0.0.2:8470}\n",
      "2022-10-14 23:14:31.916490: I tensorflow/core/distributed_runtime/rpc/grpc_channel.cc:301] Initialize GrpcChannelCache for job localhost -> {0 -> localhost:30019}\n",
      "2022-10-14 23:14:31.918142: I tensorflow/core/distributed_runtime/rpc/grpc_server_lib.cc:411] Started server with target: grpc://localhost:30019\n"
     ]
    }
   ],
   "source": [
    "AUTO = tf.data.experimental.AUTOTUNE\n",
    "\n",
    "# Create strategy from tpu\n",
    "tpu = tf.distribute.cluster_resolver.TPUClusterResolver()\n",
    "tf.config.experimental_connect_to_cluster(tpu)\n",
    "tf.tpu.experimental.initialize_tpu_system(tpu)\n",
    "strategy = tf.distribute.experimental.TPUStrategy(tpu)\n",
    "\n",
    "# Data access\n",
    "GCS_DS_PATH = KaggleDatasets().get_gcs_path()\n",
    "\n",
    "# Configuration\n",
    "IMAGE_SIZE = [224, 224]\n",
    "EPOCHS = 60\n",
    "BATCH_SIZE = 16 * strategy.num_replicas_in_sync"
   ]
  },
  {
   "cell_type": "code",
   "execution_count": 3,
   "id": "a9e7227f",
   "metadata": {
    "execution": {
     "iopub.execute_input": "2022-10-14T23:14:38.304400Z",
     "iopub.status.busy": "2022-10-14T23:14:38.303614Z",
     "iopub.status.idle": "2022-10-14T23:14:38.546725Z",
     "shell.execute_reply": "2022-10-14T23:14:38.545683Z",
     "shell.execute_reply.started": "2021-11-24T10:34:56.684131Z"
    },
    "papermill": {
     "duration": 0.263304,
     "end_time": "2022-10-14T23:14:38.546884",
     "exception": false,
     "start_time": "2022-10-14T23:14:38.283580",
     "status": "completed"
    },
    "tags": []
   },
   "outputs": [
    {
     "name": "stderr",
     "output_type": "stream",
     "text": [
      "2022-10-14 23:14:38.310767: I tensorflow/core/platform/cloud/google_auth_provider.cc:180] Attempting an empty bearer token since no token was retrieved from files, and GCE metadata check was skipped.\n",
      "2022-10-14 23:14:38.396597: I tensorflow/core/platform/cloud/google_auth_provider.cc:180] Attempting an empty bearer token since no token was retrieved from files, and GCE metadata check was skipped.\n",
      "2022-10-14 23:14:38.470004: I tensorflow/core/platform/cloud/google_auth_provider.cc:180] Attempting an empty bearer token since no token was retrieved from files, and GCE metadata check was skipped.\n"
     ]
    }
   ],
   "source": [
    "GCS_PATH_SELECT = { # available image sizes\n",
    "    192: GCS_DS_PATH + '/tfrecords-jpeg-192x192',\n",
    "    224: GCS_DS_PATH + '/tfrecords-jpeg-224x224',\n",
    "    331: GCS_DS_PATH + '/tfrecords-jpeg-331x331',\n",
    "    512: GCS_DS_PATH + '/tfrecords-jpeg-512x512'\n",
    "}\n",
    "GCS_PATH = GCS_PATH_SELECT[IMAGE_SIZE[0]]\n",
    "\n",
    "TRAINING_FILENAMES = tf.io.gfile.glob(GCS_PATH + '/train/*.tfrec')\n",
    "VALIDATION_FILENAMES = tf.io.gfile.glob(GCS_PATH + '/val/*.tfrec')\n",
    "TEST_FILENAMES = tf.io.gfile.glob(GCS_PATH + '/test/*.tfrec') # predictions on this dataset should be submitted for the competition"
   ]
  },
  {
   "cell_type": "markdown",
   "id": "e406b9b0",
   "metadata": {
    "papermill": {
     "duration": 0.016735,
     "end_time": "2022-10-14T23:14:38.580252",
     "exception": false,
     "start_time": "2022-10-14T23:14:38.563517",
     "status": "completed"
    },
    "tags": []
   },
   "source": [
    "Unhide to see `CLASSES`:"
   ]
  },
  {
   "cell_type": "code",
   "execution_count": 4,
   "id": "ce664faa",
   "metadata": {
    "_kg_hide-input": true,
    "execution": {
     "iopub.execute_input": "2022-10-14T23:14:38.626149Z",
     "iopub.status.busy": "2022-10-14T23:14:38.618956Z",
     "iopub.status.idle": "2022-10-14T23:14:38.628608Z",
     "shell.execute_reply": "2022-10-14T23:14:38.629115Z",
     "shell.execute_reply.started": "2021-11-24T10:34:56.919383Z"
    },
    "papermill": {
     "duration": 0.031801,
     "end_time": "2022-10-14T23:14:38.629302",
     "exception": false,
     "start_time": "2022-10-14T23:14:38.597501",
     "status": "completed"
    },
    "tags": []
   },
   "outputs": [],
   "source": [
    "CLASSES = ['pink primrose',    'hard-leaved pocket orchid', 'canterbury bells', 'sweet pea',     'wild geranium',     'tiger lily',           'moon orchid',              'bird of paradise', 'monkshood',        'globe thistle',         # 00 - 09\n",
    "           'snapdragon',       \"colt's foot\",               'king protea',      'spear thistle', 'yellow iris',       'globe-flower',         'purple coneflower',        'peruvian lily',    'balloon flower',   'giant white arum lily', # 10 - 19\n",
    "           'fire lily',        'pincushion flower',         'fritillary',       'red ginger',    'grape hyacinth',    'corn poppy',           'prince of wales feathers', 'stemless gentian', 'artichoke',        'sweet william',         # 20 - 29\n",
    "           'carnation',        'garden phlox',              'love in the mist', 'cosmos',        'alpine sea holly',  'ruby-lipped cattleya', 'cape flower',              'great masterwort', 'siam tulip',       'lenten rose',           # 30 - 39\n",
    "           'barberton daisy',  'daffodil',                  'sword lily',       'poinsettia',    'bolero deep blue',  'wallflower',           'marigold',                 'buttercup',        'daisy',            'common dandelion',      # 40 - 49\n",
    "           'petunia',          'wild pansy',                'primula',          'sunflower',     'lilac hibiscus',    'bishop of llandaff',   'gaura',                    'geranium',         'orange dahlia',    'pink-yellow dahlia',    # 50 - 59\n",
    "           'cautleya spicata', 'japanese anemone',          'black-eyed susan', 'silverbush',    'californian poppy', 'osteospermum',         'spring crocus',            'iris',             'windflower',       'tree poppy',            # 60 - 69\n",
    "           'gazania',          'azalea',                    'water lily',       'rose',          'thorn apple',       'morning glory',        'passion flower',           'lotus',            'toad lily',        'anthurium',             # 70 - 79\n",
    "           'frangipani',       'clematis',                  'hibiscus',         'columbine',     'desert-rose',       'tree mallow',          'magnolia',                 'cyclamen ',        'watercress',       'canna lily',            # 80 - 89\n",
    "           'hippeastrum ',     'bee balm',                  'pink quill',       'foxglove',      'bougainvillea',     'camellia',             'mallow',                   'mexican petunia',  'bromelia',         'blanket flower',        # 90 - 99\n",
    "           'trumpet creeper',  'blackberry lily',           'common tulip',     'wild rose']                                                                                                                                               # 100 - 102"
   ]
  },
  {
   "cell_type": "markdown",
   "id": "25ae814f",
   "metadata": {
    "papermill": {
     "duration": 0.016184,
     "end_time": "2022-10-14T23:14:38.662199",
     "exception": false,
     "start_time": "2022-10-14T23:14:38.646015",
     "status": "completed"
    },
    "tags": []
   },
   "source": [
    "# Helper Functions\n",
    "## Visualization"
   ]
  },
  {
   "cell_type": "code",
   "execution_count": 5,
   "id": "d09c4042",
   "metadata": {
    "_kg_hide-input": true,
    "execution": {
     "iopub.execute_input": "2022-10-14T23:14:38.702260Z",
     "iopub.status.busy": "2022-10-14T23:14:38.701566Z",
     "iopub.status.idle": "2022-10-14T23:14:38.704496Z",
     "shell.execute_reply": "2022-10-14T23:14:38.703895Z",
     "shell.execute_reply.started": "2021-11-24T10:34:56.933072Z"
    },
    "papermill": {
     "duration": 0.026007,
     "end_time": "2022-10-14T23:14:38.704644",
     "exception": false,
     "start_time": "2022-10-14T23:14:38.678637",
     "status": "completed"
    },
    "tags": []
   },
   "outputs": [],
   "source": [
    "def display_training_curves(training, validation, title, subplot):\n",
    "    if subplot%10==1: # set up the subplots on the first call\n",
    "        plt.subplots(figsize=(10,10), facecolor='#F0F0F0')\n",
    "        plt.tight_layout()\n",
    "    ax = plt.subplot(subplot)\n",
    "    ax.set_facecolor('#F8F8F8')\n",
    "    ax.plot(training)\n",
    "    ax.plot(validation)\n",
    "    ax.set_title('model '+ title)\n",
    "    ax.set_ylabel(title)\n",
    "    #ax.set_ylim(0.28,1.05)\n",
    "    ax.set_xlabel('epoch')\n",
    "    ax.legend(['train', 'valid.'])"
   ]
  },
  {
   "cell_type": "markdown",
   "id": "91163e3b",
   "metadata": {
    "papermill": {
     "duration": 0.016599,
     "end_time": "2022-10-14T23:14:38.739829",
     "exception": false,
     "start_time": "2022-10-14T23:14:38.723230",
     "status": "completed"
    },
    "tags": []
   },
   "source": [
    "## Datasets Functions"
   ]
  },
  {
   "cell_type": "code",
   "execution_count": 6,
   "id": "e7e5b507",
   "metadata": {
    "_cell_guid": "79c7e3d0-c299-4dcb-8224-4455121ee9b0",
    "_kg_hide-input": true,
    "_uuid": "d629ff2d2480ee46fbb7e2d37f6b5fab8052498a",
    "execution": {
     "iopub.execute_input": "2022-10-14T23:14:38.776744Z",
     "iopub.status.busy": "2022-10-14T23:14:38.775994Z",
     "iopub.status.idle": "2022-10-14T23:14:38.795293Z",
     "shell.execute_reply": "2022-10-14T23:14:38.794671Z",
     "shell.execute_reply.started": "2021-11-24T10:34:56.949251Z"
    },
    "papermill": {
     "duration": 0.03902,
     "end_time": "2022-10-14T23:14:38.795458",
     "exception": false,
     "start_time": "2022-10-14T23:14:38.756438",
     "status": "completed"
    },
    "tags": []
   },
   "outputs": [],
   "source": [
    "def decode_image(image_data):\n",
    "    image = tf.image.decode_jpeg(image_data, channels=3)\n",
    "    image = tf.cast(image, tf.float32) / 255.0  # convert image to floats in [0, 1] range\n",
    "    image = tf.reshape(image, [*IMAGE_SIZE, 3]) # explicit size needed for TPU\n",
    "    return image\n",
    "\n",
    "def read_labeled_tfrecord(example):\n",
    "    LABELED_TFREC_FORMAT = {\n",
    "        \"image\": tf.io.FixedLenFeature([], tf.string), # tf.string means bytestring\n",
    "        \"class\": tf.io.FixedLenFeature([], tf.int64),  # shape [] means single element\n",
    "    }\n",
    "    example = tf.io.parse_single_example(example, LABELED_TFREC_FORMAT)\n",
    "    image = decode_image(example['image'])\n",
    "    label = tf.cast(example['class'], tf.int32)\n",
    "    return image, label # returns a dataset of (image, label) pairs\n",
    "\n",
    "def read_unlabeled_tfrecord(example):\n",
    "    UNLABELED_TFREC_FORMAT = {\n",
    "        \"image\": tf.io.FixedLenFeature([], tf.string), # tf.string means bytestring\n",
    "        \"id\": tf.io.FixedLenFeature([], tf.string),  # shape [] means single element\n",
    "        # class is missing, this competitions's challenge is to predict flower classes for the test dataset\n",
    "    }\n",
    "    example = tf.io.parse_single_example(example, UNLABELED_TFREC_FORMAT)\n",
    "    image = decode_image(example['image'])\n",
    "    idnum = example['id']\n",
    "    return image, idnum # returns a dataset of image(s)\n",
    "\n",
    "def load_dataset(filenames, labeled=True, ordered=False):\n",
    "    # Read from TFRecords. For optimal performance, reading from multiple files at once and\n",
    "    # disregarding data order. Order does not matter since we will be shuffling the data anyway.\n",
    "\n",
    "    ignore_order = tf.data.Options()\n",
    "    if not ordered:\n",
    "        ignore_order.experimental_deterministic = False # disable order, increase speed\n",
    "\n",
    "    dataset = tf.data.TFRecordDataset(filenames, num_parallel_reads=AUTO) # automatically interleaves reads from multiple files\n",
    "    dataset = dataset.with_options(ignore_order) # uses data as soon as it streams in, rather than in its original order\n",
    "    dataset = dataset.map(read_labeled_tfrecord if labeled else read_unlabeled_tfrecord, num_parallel_calls=AUTO)\n",
    "    # returns a dataset of (image, label) pairs if labeled=True or (image, id) pairs if labeled=False\n",
    "    return dataset\n",
    "\n",
    "def data_augment(image, label, seed=2020):\n",
    "    # data augmentation. Thanks to the dataset.prefetch(AUTO) statement in the next function (below),\n",
    "    # this happens essentially for free on TPU. Data pipeline code is executed on the \"CPU\" part\n",
    "    # of the TPU while the TPU itself is computing gradients.\n",
    "    image = tf.image.random_flip_left_right(image, seed=seed)\n",
    "#     image = tf.image.random_flip_up_down(image, seed=seed)\n",
    "#     image = tf.image.random_brightness(image, 0.1, seed=seed)\n",
    "    \n",
    "#     image = tf.image.random_jpeg_quality(image, 85, 100, seed=seed)\n",
    "#     image = tf.image.resize(image, [530, 530])\n",
    "#     image = tf.image.random_crop(image, [512, 512], seed=seed)\n",
    "    #image = tf.image.random_saturation(image, 0, 2)\n",
    "    return image, label   \n",
    "\n",
    "def get_training_dataset():\n",
    "    dataset = load_dataset(TRAINING_FILENAMES, labeled=True)\n",
    "    dataset = dataset.map(data_augment, num_parallel_calls=AUTO)\n",
    "    dataset = dataset.repeat() # the training dataset must repeat for several epochs\n",
    "    dataset = dataset.shuffle(2048)\n",
    "    dataset = dataset.batch(BATCH_SIZE)\n",
    "    dataset = dataset.prefetch(AUTO) # prefetch next batch while training (autotune prefetch buffer size)\n",
    "    return dataset\n",
    "\n",
    "def get_validation_dataset(ordered=False):\n",
    "    dataset = load_dataset(VALIDATION_FILENAMES, labeled=True, ordered=ordered)\n",
    "    dataset = dataset.batch(BATCH_SIZE)\n",
    "    dataset = dataset.cache()\n",
    "    dataset = dataset.prefetch(AUTO) # prefetch next batch while training (autotune prefetch buffer size)\n",
    "    return dataset\n",
    "\n",
    "def get_train_valid_datasets():\n",
    "    dataset = load_dataset(TRAINING_FILENAMES + VALIDATION_FILENAMES, labeled=True)\n",
    "    dataset = dataset.map(data_augment, num_parallel_calls=AUTO)\n",
    "    dataset = dataset.repeat() # the training dataset must repeat for several epochs\n",
    "    dataset = dataset.shuffle(2048)\n",
    "    dataset = dataset.batch(BATCH_SIZE)\n",
    "    dataset = dataset.prefetch(AUTO) # prefetch next batch while training (autotune prefetch buffer size)\n",
    "    return dataset\n",
    "\n",
    "def get_test_dataset(ordered=False):\n",
    "    dataset = load_dataset(TEST_FILENAMES, labeled=False, ordered=ordered)\n",
    "    dataset = dataset.batch(BATCH_SIZE)\n",
    "    dataset = dataset.prefetch(AUTO) # prefetch next batch while training (autotune prefetch buffer size)\n",
    "    return dataset\n",
    "\n",
    "def count_data_items(filenames):\n",
    "    # the number of data items is written in the name of the .tfrec files, i.e. flowers00-230.tfrec = 230 data items\n",
    "    n = [int(re.compile(r\"-([0-9]*)\\.\").search(filename).group(1)) for filename in filenames]\n",
    "    return np.sum(n)\n"
   ]
  },
  {
   "cell_type": "markdown",
   "id": "e1565578",
   "metadata": {
    "papermill": {
     "duration": 0.017059,
     "end_time": "2022-10-14T23:14:38.829422",
     "exception": false,
     "start_time": "2022-10-14T23:14:38.812363",
     "status": "completed"
    },
    "tags": []
   },
   "source": [
    "# Training Model"
   ]
  },
  {
   "cell_type": "markdown",
   "id": "293439f9",
   "metadata": {
    "papermill": {
     "duration": 0.016432,
     "end_time": "2022-10-14T23:14:38.862958",
     "exception": false,
     "start_time": "2022-10-14T23:14:38.846526",
     "status": "completed"
    },
    "tags": []
   },
   "source": [
    "## Load Model into TPU"
   ]
  },
  {
   "cell_type": "code",
   "execution_count": 7,
   "id": "3271c07a",
   "metadata": {
    "execution": {
     "iopub.execute_input": "2022-10-14T23:14:38.899994Z",
     "iopub.status.busy": "2022-10-14T23:14:38.899287Z",
     "iopub.status.idle": "2022-10-14T23:14:38.904588Z",
     "shell.execute_reply": "2022-10-14T23:14:38.905142Z",
     "shell.execute_reply.started": "2021-11-24T10:34:56.975008Z"
    },
    "papermill": {
     "duration": 0.025711,
     "end_time": "2022-10-14T23:14:38.905323",
     "exception": false,
     "start_time": "2022-10-14T23:14:38.879612",
     "status": "completed"
    },
    "tags": []
   },
   "outputs": [],
   "source": [
    "def lrfn(epoch):\n",
    "    LR_START = 0.00001\n",
    "    LR_MAX = 0.00005 * strategy.num_replicas_in_sync\n",
    "    LR_MIN = 0.00001\n",
    "    LR_RAMPUP_EPOCHS = 5\n",
    "    LR_SUSTAIN_EPOCHS = 0\n",
    "    LR_EXP_DECAY = .8\n",
    "    \n",
    "    if epoch < LR_RAMPUP_EPOCHS:\n",
    "        lr = (LR_MAX - LR_START) / LR_RAMPUP_EPOCHS * epoch + LR_START\n",
    "    elif epoch < LR_RAMPUP_EPOCHS + LR_SUSTAIN_EPOCHS:\n",
    "        lr = LR_MAX\n",
    "    else:\n",
    "        lr = (LR_MAX - LR_MIN) * LR_EXP_DECAY**(epoch - LR_RAMPUP_EPOCHS - LR_SUSTAIN_EPOCHS) + LR_MIN\n",
    "    return lr"
   ]
  },
  {
   "cell_type": "code",
   "execution_count": 8,
   "id": "15cd9e89",
   "metadata": {
    "execution": {
     "iopub.execute_input": "2022-10-14T23:14:38.942925Z",
     "iopub.status.busy": "2022-10-14T23:14:38.942221Z",
     "iopub.status.idle": "2022-10-14T23:14:38.947126Z",
     "shell.execute_reply": "2022-10-14T23:14:38.946509Z",
     "shell.execute_reply.started": "2021-11-24T10:34:56.990977Z"
    },
    "papermill": {
     "duration": 0.025233,
     "end_time": "2022-10-14T23:14:38.947290",
     "exception": false,
     "start_time": "2022-10-14T23:14:38.922057",
     "status": "completed"
    },
    "tags": []
   },
   "outputs": [],
   "source": [
    "def freeze(model):\n",
    "    for layer in model.layers:\n",
    "        layer.trainable = False\n",
    "\n",
    "def unfreeze(model):\n",
    "    for layer in model.layers:\n",
    "        layer.trainable = True"
   ]
  },
  {
   "cell_type": "code",
   "execution_count": 9,
   "id": "cc4b7f87",
   "metadata": {
    "execution": {
     "iopub.execute_input": "2022-10-14T23:14:38.989927Z",
     "iopub.status.busy": "2022-10-14T23:14:38.988899Z",
     "iopub.status.idle": "2022-10-14T23:14:38.992376Z",
     "shell.execute_reply": "2022-10-14T23:14:38.993077Z",
     "shell.execute_reply.started": "2021-11-24T10:34:57.002019Z"
    },
    "papermill": {
     "duration": 0.029186,
     "end_time": "2022-10-14T23:14:38.993317",
     "exception": false,
     "start_time": "2022-10-14T23:14:38.964131",
     "status": "completed"
    },
    "tags": []
   },
   "outputs": [
    {
     "name": "stdout",
     "output_type": "stream",
     "text": [
      "Dataset: 16465 training images, 7382 unlabeled test images\n"
     ]
    }
   ],
   "source": [
    "NUM_TRAINING_IMAGES = count_data_items(TRAINING_FILENAMES)\n",
    "NUM_VALIDATION_IMAGES = count_data_items(VALIDATION_FILENAMES)\n",
    "NUM_TEST_IMAGES = count_data_items(TEST_FILENAMES)\n",
    "STEPS_PER_EPOCH = (NUM_TRAINING_IMAGES + NUM_VALIDATION_IMAGES) // BATCH_SIZE\n",
    "STEPS_PER_EPOCH1 = (NUM_TRAINING_IMAGES) // BATCH_SIZE\n",
    "STEPS_PER_EPOCH2 = (NUM_VALIDATION_IMAGES) // BATCH_SIZE\n",
    "print('Dataset: {} training images, {} unlabeled test images'.format(NUM_TRAINING_IMAGES+NUM_VALIDATION_IMAGES, NUM_TEST_IMAGES))"
   ]
  },
  {
   "cell_type": "code",
   "execution_count": 10,
   "id": "d8413746",
   "metadata": {
    "execution": {
     "iopub.execute_input": "2022-10-14T23:14:39.032414Z",
     "iopub.status.busy": "2022-10-14T23:14:39.031681Z",
     "iopub.status.idle": "2022-10-14T23:14:39.198692Z",
     "shell.execute_reply": "2022-10-14T23:14:39.198134Z"
    },
    "papermill": {
     "duration": 0.187266,
     "end_time": "2022-10-14T23:14:39.198877",
     "exception": false,
     "start_time": "2022-10-14T23:14:39.011611",
     "status": "completed"
    },
    "tags": []
   },
   "outputs": [],
   "source": [
    "import cv2\n",
    "import numpy as np\n",
    "import os\n",
    "from tensorflow.keras.preprocessing.image import ImageDataGenerator\n",
    "from tensorflow.keras import backend as K\n",
    "import tensorflow.keras\n",
    "from tensorflow.keras.models import Sequential, Model,load_model\n",
    "#from keras.optimizers import SGD\n",
    "from tensorflow.keras.callbacks import EarlyStopping,ModelCheckpoint\n",
    "from tensorflow.keras.layers import Input, Add, Dense, Activation, ZeroPadding2D, BatchNormalization, Flatten, Conv2D, AveragePooling2D, MaxPooling2D, GlobalMaxPooling2D,MaxPool2D,Concatenate\n",
    "from tensorflow.keras.preprocessing import image\n",
    "from tensorflow.keras.initializers import glorot_uniform\n",
    "\n",
    "def Conv2D_M_filters_id(X_1,F,conv_name_base,pad,strid):\n",
    "    f1=int(F*0.85)\n",
    "    f2=int(F*0.15)\n",
    "    f3=0#int(F*0.05)\n",
    "    remain=F-(f1+f2+f3)\n",
    "    f1+=remain\n",
    "    if pad=='same':\n",
    "            #X1= Conv2D(filters=f3, kernel_size=(7, 7), strides=strid, padding='same', name=conv_name_base +\"2b2\", kernel_initializer=glorot_uniform(seed=0))(X_1)\n",
    "            X2= Conv2D(filters=f2, kernel_size=(5, 5), strides=strid, padding='same', name=conv_name_base + '2b3', kernel_initializer=glorot_uniform(seed=0))(X_1)\n",
    "            X3= Conv2D(filters=f1, kernel_size=(3, 3), strides=strid, padding='same', name=conv_name_base , kernel_initializer=glorot_uniform(seed=0))(X_1)  \n",
    "    else:\n",
    "        if strid==(1,1):\n",
    "            #X1= Conv2D(filters=f3, kernel_size=(7, 7), strides=strid, padding='valid', name=conv_name_base + '2b2', kernel_initializer=glorot_uniform(seed=0))(X_1)\n",
    "            #X1=ZeroPadding2D(padding=2)(X1)\n",
    "            X2= Conv2D(filters=f2, kernel_size=(5, 5), strides=strid, padding='valid', name=conv_name_base + '2b3', kernel_initializer=glorot_uniform(seed=0))(X_1)\n",
    "            X2=ZeroPadding2D(padding=1)(X2)\n",
    "            X3= Conv2D(filters=f1, kernel_size=(3, 3), strides=strid, padding='valid', name=conv_name_base , kernel_initializer=glorot_uniform(seed=0))(X_1)\n",
    "        else:\n",
    "            #X1= Conv2D(filters=f3, kernel_size=(7, 7), strides=strid, padding='valid', name=conv_name_base + '2b2', kernel_initializer=glorot_uniform(seed=0))(X_1)\n",
    "            #X1=ZeroPadding2D(padding=1)(X1)\n",
    "            X2= Conv2D(filters=f2, kernel_size=(5, 5), strides=strid, padding='valid', name=conv_name_base + '2b3', kernel_initializer=glorot_uniform(seed=0))(X_1)\n",
    "            X2=ZeroPadding2D(padding=((0, 1), (0, 1)))(X2)#((top_pad, bottom_pad), (left_pad, right_pad))\n",
    "            X3= Conv2D(filters=f1, kernel_size=(3, 3), strides=strid, padding='valid', name=conv_name_base , kernel_initializer=glorot_uniform(seed=0))(X_1)\n",
    "\n",
    "\n",
    " \n",
    "    X=Concatenate(axis=-1)([X2,X3])\n",
    "    return X\n",
    "def insert_layer_nonseq(model, position='replace'):\n",
    "    filter_name={}\n",
    "    padding={}\n",
    "    names=[]\n",
    "    strid_={}\n",
    "    for i in model.layers: \n",
    "        layer_type = type(i).__name__\n",
    "        if layer_type== 'Conv2D' and i.kernel_size == (3,3):\n",
    "            filter_name[i.name]=i.filters\n",
    "            padding[i.name]=i.padding\n",
    "            names.append(i.name)\n",
    "            strid_[i.name]=i.strides\n",
    "      # Auxiliary dictionary to describe the network graph\n",
    "        network_dict = {'input_layers_of': {}, 'new_output_tensor_of': {}}\n",
    "\n",
    "    # Set the input layers of each layer\n",
    "    for layer in model.layers:\n",
    "        for node in layer._outbound_nodes:\n",
    "            layer_name = node.outbound_layer.name\n",
    "            if layer_name not in network_dict['input_layers_of']:\n",
    "                network_dict['input_layers_of'].update(\n",
    "                        {layer_name: [layer.name]})\n",
    "            else:\n",
    "                network_dict['input_layers_of'][layer_name].append(layer.name)\n",
    "\n",
    "    # Set the output tensor of the input layer\n",
    "    network_dict['new_output_tensor_of'].update(\n",
    "            {model.layers[0].name: model.input})\n",
    "\n",
    "    # Iterate over all layers after the input\n",
    "    x = None\n",
    "    for layer in model.layers[1:]:\n",
    "\n",
    "        # Determine input tensors\n",
    "        layer_input = [network_dict['new_output_tensor_of'][layer_aux] \n",
    "                for layer_aux in network_dict['input_layers_of'][layer.name]]\n",
    "        if len(layer_input) == 1:\n",
    "            layer_input = layer_input[0]\n",
    "\n",
    "        # Insert layer if name matches the regular expression\n",
    "        if  layer.name in names :\n",
    "            if position == 'replace':\n",
    "                x = layer_input\n",
    "            elif position == 'after':\n",
    "                x = layer(layer_input)\n",
    "            elif position == 'before':\n",
    "                pass\n",
    "            else:\n",
    "                raise ValueError('position must be: before, after or replace')\n",
    "            print(layer.filters,layer.strides,layer.padding,layer.kernel_size)\n",
    "            new_layer = Conv2D_M_filters_id(x,filter_name[layer.name],layer.name,pad=padding[layer.name],strid=strid_[layer.name])\n",
    "            x = new_layer#(x)\n",
    "            print('New layer: {} Old layer: {} Type: {}'.format(new_layer.name,\n",
    "                                                            layer.name, position))\n",
    "            if position == 'before':\n",
    "                x = layer(x)\n",
    "        else:\n",
    "            x = layer(layer_input)\n",
    "\n",
    "        # Set new output tensor (the original one, or the one of the inserted\n",
    "        # layer)\n",
    "        network_dict['new_output_tensor_of'].update({layer.name: x})\n",
    "\n",
    "        # Save tensor in output list if it is output in initial model\n",
    "        #if layer_name in model.output_names:\n",
    "        #    model_outputs.append(x)\n",
    "\n",
    "    return Model(inputs=model.inputs, outputs=x)"
   ]
  },
  {
   "cell_type": "code",
   "execution_count": 11,
   "id": "d1ff7897",
   "metadata": {
    "execution": {
     "iopub.execute_input": "2022-10-14T23:14:39.243371Z",
     "iopub.status.busy": "2022-10-14T23:14:39.242331Z",
     "iopub.status.idle": "2022-10-14T23:15:03.710767Z",
     "shell.execute_reply": "2022-10-14T23:15:03.711455Z",
     "shell.execute_reply.started": "2021-11-24T10:34:57.014508Z"
    },
    "papermill": {
     "duration": 24.495219,
     "end_time": "2022-10-14T23:15:03.711747",
     "exception": false,
     "start_time": "2022-10-14T23:14:39.216528",
     "status": "completed"
    },
    "tags": []
   },
   "outputs": [
    {
     "name": "stdout",
     "output_type": "stream",
     "text": [
      "Model: \"sequential\"\n",
      "_________________________________________________________________\n",
      "Layer (type)                 Output Shape              Param #   \n",
      "=================================================================\n",
      "densenet169 (Functional)     (None, 7, 7, 1664)        12642880  \n",
      "_________________________________________________________________\n",
      "global_average_pooling2d (Gl (None, 1664)              0         \n",
      "_________________________________________________________________\n",
      "dense (Dense)                (None, 104)               173160    \n",
      "=================================================================\n",
      "Total params: 12,816,040\n",
      "Trainable params: 12,657,640\n",
      "Non-trainable params: 158,400\n",
      "_________________________________________________________________\n"
     ]
    }
   ],
   "source": [
    "# Need this line so Google will recite some incantations\n",
    "# for Turing to magically load the model onto the TPU\n",
    "with strategy.scope():\n",
    "    rnet = DenseNet169(\n",
    "        input_shape=(224, 224, 3),\n",
    "        weights=None,#'imagenet',\n",
    "        include_top=False)\n",
    "    #rnet.save_weights(\"we.h5\")\n",
    "    #rnet=insert_layer_nonseq(rnet)\n",
    "    #rnet.load_weights(\"we.h5\",by_name=True,skip_mismatch=True)\n",
    "    model = tf.keras.Sequential([\n",
    "        rnet,\n",
    "        tf.keras.layers.GlobalAveragePooling2D(),\n",
    "        tf.keras.layers.Dense(len(CLASSES), activation='softmax')\n",
    "    ])\n",
    "model.compile(\n",
    "    optimizer=tf.keras.optimizers.Adam(),\n",
    "    loss = 'sparse_categorical_crossentropy',\n",
    "    metrics=['sparse_categorical_accuracy']\n",
    ")\n",
    "model.summary()"
   ]
  },
  {
   "cell_type": "markdown",
   "id": "848fcaa3",
   "metadata": {
    "papermill": {
     "duration": 0.017348,
     "end_time": "2022-10-14T23:15:03.747009",
     "exception": false,
     "start_time": "2022-10-14T23:15:03.729661",
     "status": "completed"
    },
    "tags": []
   },
   "source": [
    "## Training"
   ]
  },
  {
   "cell_type": "code",
   "execution_count": 12,
   "id": "dc6f5492",
   "metadata": {
    "execution": {
     "iopub.execute_input": "2022-10-14T23:15:03.785476Z",
     "iopub.status.busy": "2022-10-14T23:15:03.784518Z",
     "iopub.status.idle": "2022-10-14T23:33:02.721691Z",
     "shell.execute_reply": "2022-10-14T23:33:02.720563Z",
     "shell.execute_reply.started": "2021-11-24T10:35:29.81917Z"
    },
    "papermill": {
     "duration": 1078.957457,
     "end_time": "2022-10-14T23:33:02.721880",
     "exception": false,
     "start_time": "2022-10-14T23:15:03.764423",
     "status": "completed"
    },
    "tags": []
   },
   "outputs": [
    {
     "name": "stdout",
     "output_type": "stream",
     "text": [
      "Epoch 1/60\n",
      "\n",
      "Epoch 00001: LearningRateScheduler reducing learning rate to 1e-05.\n",
      "99/99 [==============================] - 145s 309ms/step - loss: 4.6384 - sparse_categorical_accuracy: 0.0319 - val_loss: 4.4978 - val_sparse_categorical_accuracy: 0.0582\n",
      "Epoch 2/60\n",
      "\n",
      "Epoch 00002: LearningRateScheduler reducing learning rate to 8.8e-05.\n",
      "99/99 [==============================] - 14s 144ms/step - loss: 3.5869 - sparse_categorical_accuracy: 0.1633 - val_loss: 5.4620 - val_sparse_categorical_accuracy: 0.0442\n",
      "Epoch 3/60\n",
      "\n",
      "Epoch 00003: LearningRateScheduler reducing learning rate to 0.000166.\n",
      "99/99 [==============================] - 14s 142ms/step - loss: 2.9917 - sparse_categorical_accuracy: 0.2552 - val_loss: 7.7464 - val_sparse_categorical_accuracy: 0.0523\n",
      "Epoch 4/60\n",
      "\n",
      "Epoch 00004: LearningRateScheduler reducing learning rate to 0.000244.\n",
      "99/99 [==============================] - 14s 143ms/step - loss: 2.6654 - sparse_categorical_accuracy: 0.3191 - val_loss: 7.2446 - val_sparse_categorical_accuracy: 0.0434\n",
      "Epoch 5/60\n",
      "\n",
      "Epoch 00005: LearningRateScheduler reducing learning rate to 0.000322.\n",
      "99/99 [==============================] - 14s 146ms/step - loss: 2.3695 - sparse_categorical_accuracy: 0.3870 - val_loss: 5.4097 - val_sparse_categorical_accuracy: 0.0897\n",
      "Epoch 6/60\n",
      "\n",
      "Epoch 00006: LearningRateScheduler reducing learning rate to 0.0004.\n",
      "99/99 [==============================] - 14s 143ms/step - loss: 2.1183 - sparse_categorical_accuracy: 0.4440 - val_loss: 6.1287 - val_sparse_categorical_accuracy: 0.1086\n",
      "Epoch 7/60\n",
      "\n",
      "Epoch 00007: LearningRateScheduler reducing learning rate to 0.000322.\n",
      "99/99 [==============================] - 14s 144ms/step - loss: 1.8480 - sparse_categorical_accuracy: 0.5064 - val_loss: 4.1332 - val_sparse_categorical_accuracy: 0.1967\n",
      "Epoch 8/60\n",
      "\n",
      "Epoch 00008: LearningRateScheduler reducing learning rate to 0.0002596000000000001.\n",
      "99/99 [==============================] - 14s 143ms/step - loss: 1.5253 - sparse_categorical_accuracy: 0.5903 - val_loss: 2.1195 - val_sparse_categorical_accuracy: 0.4709\n",
      "Epoch 9/60\n",
      "\n",
      "Epoch 00009: LearningRateScheduler reducing learning rate to 0.00020968000000000004.\n",
      "99/99 [==============================] - 14s 143ms/step - loss: 1.3046 - sparse_categorical_accuracy: 0.6432 - val_loss: 1.9403 - val_sparse_categorical_accuracy: 0.4900\n",
      "Epoch 10/60\n",
      "\n",
      "Epoch 00010: LearningRateScheduler reducing learning rate to 0.00016974400000000002.\n",
      "99/99 [==============================] - 14s 143ms/step - loss: 1.1448 - sparse_categorical_accuracy: 0.6926 - val_loss: 1.6586 - val_sparse_categorical_accuracy: 0.5692\n",
      "Epoch 11/60\n",
      "\n",
      "Epoch 00011: LearningRateScheduler reducing learning rate to 0.00013779520000000003.\n",
      "99/99 [==============================] - 14s 144ms/step - loss: 0.9815 - sparse_categorical_accuracy: 0.7310 - val_loss: 1.4863 - val_sparse_categorical_accuracy: 0.6161\n",
      "Epoch 12/60\n",
      "\n",
      "Epoch 00012: LearningRateScheduler reducing learning rate to 0.00011223616000000004.\n",
      "99/99 [==============================] - 14s 143ms/step - loss: 0.8766 - sparse_categorical_accuracy: 0.7690 - val_loss: 1.4782 - val_sparse_categorical_accuracy: 0.6067\n",
      "Epoch 13/60\n",
      "\n",
      "Epoch 00013: LearningRateScheduler reducing learning rate to 9.178892800000003e-05.\n",
      "99/99 [==============================] - 14s 144ms/step - loss: 0.7625 - sparse_categorical_accuracy: 0.7972 - val_loss: 1.4191 - val_sparse_categorical_accuracy: 0.6336\n",
      "Epoch 14/60\n",
      "\n",
      "Epoch 00014: LearningRateScheduler reducing learning rate to 7.543114240000003e-05.\n",
      "99/99 [==============================] - 14s 143ms/step - loss: 0.6652 - sparse_categorical_accuracy: 0.8238 - val_loss: 1.1838 - val_sparse_categorical_accuracy: 0.6932\n",
      "Epoch 15/60\n",
      "\n",
      "Epoch 00015: LearningRateScheduler reducing learning rate to 6.234491392000002e-05.\n",
      "99/99 [==============================] - 14s 144ms/step - loss: 0.6056 - sparse_categorical_accuracy: 0.8406 - val_loss: 1.0925 - val_sparse_categorical_accuracy: 0.7182\n",
      "Epoch 16/60\n",
      "\n",
      "Epoch 00016: LearningRateScheduler reducing learning rate to 5.1875931136000024e-05.\n",
      "99/99 [==============================] - 14s 144ms/step - loss: 0.5386 - sparse_categorical_accuracy: 0.8625 - val_loss: 1.0320 - val_sparse_categorical_accuracy: 0.7365\n",
      "Epoch 17/60\n",
      "\n",
      "Epoch 00017: LearningRateScheduler reducing learning rate to 4.3500744908800015e-05.\n",
      "99/99 [==============================] - 14s 145ms/step - loss: 0.4909 - sparse_categorical_accuracy: 0.8795 - val_loss: 1.0339 - val_sparse_categorical_accuracy: 0.7330\n",
      "Epoch 18/60\n",
      "\n",
      "Epoch 00018: LearningRateScheduler reducing learning rate to 3.6800595927040014e-05.\n",
      "99/99 [==============================] - 14s 143ms/step - loss: 0.4431 - sparse_categorical_accuracy: 0.8946 - val_loss: 1.0390 - val_sparse_categorical_accuracy: 0.7387\n",
      "Epoch 19/60\n",
      "\n",
      "Epoch 00019: LearningRateScheduler reducing learning rate to 3.1440476741632015e-05.\n",
      "99/99 [==============================] - 14s 143ms/step - loss: 0.4217 - sparse_categorical_accuracy: 0.9006 - val_loss: 0.9765 - val_sparse_categorical_accuracy: 0.7513\n",
      "Epoch 20/60\n",
      "\n",
      "Epoch 00020: LearningRateScheduler reducing learning rate to 2.7152381393305616e-05.\n",
      "99/99 [==============================] - 14s 145ms/step - loss: 0.3901 - sparse_categorical_accuracy: 0.9109 - val_loss: 0.9681 - val_sparse_categorical_accuracy: 0.7540\n",
      "Epoch 21/60\n",
      "\n",
      "Epoch 00021: LearningRateScheduler reducing learning rate to 2.3721905114644494e-05.\n",
      "99/99 [==============================] - 14s 144ms/step - loss: 0.3492 - sparse_categorical_accuracy: 0.9254 - val_loss: 0.9906 - val_sparse_categorical_accuracy: 0.7503\n",
      "Epoch 22/60\n",
      "\n",
      "Epoch 00022: LearningRateScheduler reducing learning rate to 2.0977524091715595e-05.\n",
      "99/99 [==============================] - 14s 144ms/step - loss: 0.3375 - sparse_categorical_accuracy: 0.9246 - val_loss: 0.9417 - val_sparse_categorical_accuracy: 0.7610\n",
      "Epoch 23/60\n",
      "\n",
      "Epoch 00023: LearningRateScheduler reducing learning rate to 1.8782019273372477e-05.\n",
      "99/99 [==============================] - 14s 143ms/step - loss: 0.3077 - sparse_categorical_accuracy: 0.9375 - val_loss: 0.9581 - val_sparse_categorical_accuracy: 0.7584\n",
      "Epoch 24/60\n",
      "\n",
      "Epoch 00024: LearningRateScheduler reducing learning rate to 1.702561541869798e-05.\n",
      "99/99 [==============================] - 14s 143ms/step - loss: 0.3103 - sparse_categorical_accuracy: 0.9337 - val_loss: 0.9576 - val_sparse_categorical_accuracy: 0.7624\n",
      "Epoch 25/60\n",
      "\n",
      "Epoch 00025: LearningRateScheduler reducing learning rate to 1.5620492334958385e-05.\n",
      "99/99 [==============================] - 14s 143ms/step - loss: 0.2817 - sparse_categorical_accuracy: 0.9448 - val_loss: 0.9499 - val_sparse_categorical_accuracy: 0.7635\n",
      "Epoch 26/60\n",
      "\n",
      "Epoch 00026: LearningRateScheduler reducing learning rate to 1.4496393867966709e-05.\n",
      "99/99 [==============================] - 14s 143ms/step - loss: 0.2709 - sparse_categorical_accuracy: 0.9461 - val_loss: 0.9332 - val_sparse_categorical_accuracy: 0.7648\n",
      "Epoch 27/60\n",
      "\n",
      "Epoch 00027: LearningRateScheduler reducing learning rate to 1.3597115094373368e-05.\n",
      "99/99 [==============================] - 14s 145ms/step - loss: 0.2693 - sparse_categorical_accuracy: 0.9455 - val_loss: 0.9426 - val_sparse_categorical_accuracy: 0.7654\n",
      "Epoch 28/60\n",
      "\n",
      "Epoch 00028: LearningRateScheduler reducing learning rate to 1.2877692075498695e-05.\n",
      "99/99 [==============================] - 14s 145ms/step - loss: 0.2472 - sparse_categorical_accuracy: 0.9551 - val_loss: 0.9414 - val_sparse_categorical_accuracy: 0.7637\n",
      "Epoch 29/60\n",
      "\n",
      "Epoch 00029: LearningRateScheduler reducing learning rate to 1.2302153660398955e-05.\n",
      "99/99 [==============================] - 14s 144ms/step - loss: 0.2447 - sparse_categorical_accuracy: 0.9528 - val_loss: 0.9456 - val_sparse_categorical_accuracy: 0.7699\n",
      "Epoch 30/60\n",
      "\n",
      "Epoch 00030: LearningRateScheduler reducing learning rate to 1.1841722928319164e-05.\n",
      "99/99 [==============================] - 14s 145ms/step - loss: 0.2461 - sparse_categorical_accuracy: 0.9528 - val_loss: 0.9551 - val_sparse_categorical_accuracy: 0.7640\n",
      "Epoch 31/60\n",
      "\n",
      "Epoch 00031: LearningRateScheduler reducing learning rate to 1.1473378342655331e-05.\n",
      "99/99 [==============================] - 14s 144ms/step - loss: 0.2347 - sparse_categorical_accuracy: 0.9554 - val_loss: 0.9359 - val_sparse_categorical_accuracy: 0.7654\n",
      "Epoch 32/60\n",
      "\n",
      "Epoch 00032: LearningRateScheduler reducing learning rate to 1.1178702674124267e-05.\n",
      "99/99 [==============================] - 14s 143ms/step - loss: 0.2165 - sparse_categorical_accuracy: 0.9624 - val_loss: 0.9513 - val_sparse_categorical_accuracy: 0.7627\n",
      "Epoch 33/60\n",
      "\n",
      "Epoch 00033: LearningRateScheduler reducing learning rate to 1.0942962139299413e-05.\n",
      "99/99 [==============================] - 14s 145ms/step - loss: 0.2093 - sparse_categorical_accuracy: 0.9628 - val_loss: 0.9481 - val_sparse_categorical_accuracy: 0.7648\n",
      "Epoch 34/60\n",
      "\n",
      "Epoch 00034: LearningRateScheduler reducing learning rate to 1.075436971143953e-05.\n",
      "99/99 [==============================] - 14s 144ms/step - loss: 0.2155 - sparse_categorical_accuracy: 0.9606 - val_loss: 0.9486 - val_sparse_categorical_accuracy: 0.7645\n",
      "Epoch 35/60\n",
      "\n",
      "Epoch 00035: LearningRateScheduler reducing learning rate to 1.0603495769151624e-05.\n",
      "99/99 [==============================] - 14s 143ms/step - loss: 0.1994 - sparse_categorical_accuracy: 0.9686 - val_loss: 0.9511 - val_sparse_categorical_accuracy: 0.7662\n",
      "Epoch 36/60\n",
      "\n",
      "Epoch 00036: LearningRateScheduler reducing learning rate to 1.04827966153213e-05.\n",
      "99/99 [==============================] - 14s 144ms/step - loss: 0.1948 - sparse_categorical_accuracy: 0.9680 - val_loss: 0.9458 - val_sparse_categorical_accuracy: 0.7648\n",
      "Epoch 37/60\n",
      "\n",
      "Epoch 00037: LearningRateScheduler reducing learning rate to 1.038623729225704e-05.\n",
      "99/99 [==============================] - 14s 144ms/step - loss: 0.1970 - sparse_categorical_accuracy: 0.9642 - val_loss: 0.9540 - val_sparse_categorical_accuracy: 0.7664\n",
      "Epoch 38/60\n",
      "\n",
      "Epoch 00038: LearningRateScheduler reducing learning rate to 1.0308989833805632e-05.\n",
      "99/99 [==============================] - 14s 143ms/step - loss: 0.1913 - sparse_categorical_accuracy: 0.9674 - val_loss: 0.9579 - val_sparse_categorical_accuracy: 0.7637\n",
      "Epoch 39/60\n",
      "\n",
      "Epoch 00039: LearningRateScheduler reducing learning rate to 1.0247191867044507e-05.\n",
      "99/99 [==============================] - 14s 144ms/step - loss: 0.1774 - sparse_categorical_accuracy: 0.9724 - val_loss: 0.9449 - val_sparse_categorical_accuracy: 0.7654\n",
      "Epoch 40/60\n",
      "\n",
      "Epoch 00040: LearningRateScheduler reducing learning rate to 1.0197753493635605e-05.\n",
      "99/99 [==============================] - 15s 152ms/step - loss: 0.1719 - sparse_categorical_accuracy: 0.9739 - val_loss: 0.9624 - val_sparse_categorical_accuracy: 0.7621\n",
      "Epoch 41/60\n",
      "\n",
      "Epoch 00041: LearningRateScheduler reducing learning rate to 1.0158202794908484e-05.\n",
      "99/99 [==============================] - 14s 146ms/step - loss: 0.1735 - sparse_categorical_accuracy: 0.9725 - val_loss: 0.9472 - val_sparse_categorical_accuracy: 0.7667\n",
      "Epoch 42/60\n",
      "\n",
      "Epoch 00042: LearningRateScheduler reducing learning rate to 1.0126562235926787e-05.\n",
      "99/99 [==============================] - 18s 182ms/step - loss: 0.1639 - sparse_categorical_accuracy: 0.9754 - val_loss: 0.9502 - val_sparse_categorical_accuracy: 0.7667\n",
      "Epoch 43/60\n",
      "\n",
      "Epoch 00043: LearningRateScheduler reducing learning rate to 1.010124978874143e-05.\n",
      "99/99 [==============================] - 14s 145ms/step - loss: 0.1721 - sparse_categorical_accuracy: 0.9711 - val_loss: 0.9580 - val_sparse_categorical_accuracy: 0.7656\n",
      "Epoch 44/60\n",
      "\n",
      "Epoch 00044: LearningRateScheduler reducing learning rate to 1.0080999830993145e-05.\n",
      "99/99 [==============================] - 14s 144ms/step - loss: 0.1536 - sparse_categorical_accuracy: 0.9777 - val_loss: 0.9460 - val_sparse_categorical_accuracy: 0.7713\n",
      "Epoch 45/60\n",
      "\n",
      "Epoch 00045: LearningRateScheduler reducing learning rate to 1.0064799864794516e-05.\n",
      "99/99 [==============================] - 14s 144ms/step - loss: 0.1601 - sparse_categorical_accuracy: 0.9760 - val_loss: 0.9512 - val_sparse_categorical_accuracy: 0.7675\n",
      "Epoch 46/60\n",
      "\n",
      "Epoch 00046: LearningRateScheduler reducing learning rate to 1.0051839891835612e-05.\n",
      "99/99 [==============================] - 14s 144ms/step - loss: 0.1482 - sparse_categorical_accuracy: 0.9788 - val_loss: 0.9492 - val_sparse_categorical_accuracy: 0.7694\n",
      "Epoch 47/60\n",
      "\n",
      "Epoch 00047: LearningRateScheduler reducing learning rate to 1.004147191346849e-05.\n",
      "99/99 [==============================] - 14s 144ms/step - loss: 0.1461 - sparse_categorical_accuracy: 0.9766 - val_loss: 0.9594 - val_sparse_categorical_accuracy: 0.7667\n",
      "Epoch 48/60\n",
      "\n",
      "Epoch 00048: LearningRateScheduler reducing learning rate to 1.0033177530774792e-05.\n",
      "99/99 [==============================] - 14s 144ms/step - loss: 0.1496 - sparse_categorical_accuracy: 0.9788 - val_loss: 0.9759 - val_sparse_categorical_accuracy: 0.7686\n",
      "Epoch 49/60\n",
      "\n",
      "Epoch 00049: LearningRateScheduler reducing learning rate to 1.0026542024619834e-05.\n",
      "99/99 [==============================] - 14s 144ms/step - loss: 0.1389 - sparse_categorical_accuracy: 0.9811 - val_loss: 0.9775 - val_sparse_categorical_accuracy: 0.7597\n",
      "Epoch 50/60\n",
      "\n",
      "Epoch 00050: LearningRateScheduler reducing learning rate to 1.0021233619695867e-05.\n",
      "99/99 [==============================] - 14s 145ms/step - loss: 0.1267 - sparse_categorical_accuracy: 0.9840 - val_loss: 0.9597 - val_sparse_categorical_accuracy: 0.7664\n",
      "Epoch 51/60\n",
      "\n",
      "Epoch 00051: LearningRateScheduler reducing learning rate to 1.0016986895756694e-05.\n",
      "99/99 [==============================] - 14s 144ms/step - loss: 0.1356 - sparse_categorical_accuracy: 0.9798 - val_loss: 0.9658 - val_sparse_categorical_accuracy: 0.7664\n",
      "Epoch 52/60\n",
      "\n",
      "Epoch 00052: LearningRateScheduler reducing learning rate to 1.0013589516605356e-05.\n",
      "99/99 [==============================] - 14s 144ms/step - loss: 0.1293 - sparse_categorical_accuracy: 0.9806 - val_loss: 0.9612 - val_sparse_categorical_accuracy: 0.7664\n",
      "Epoch 53/60\n",
      "\n",
      "Epoch 00053: LearningRateScheduler reducing learning rate to 1.0010871613284285e-05.\n",
      "99/99 [==============================] - 14s 143ms/step - loss: 0.1259 - sparse_categorical_accuracy: 0.9830 - val_loss: 0.9602 - val_sparse_categorical_accuracy: 0.7683\n",
      "Epoch 54/60\n",
      "\n",
      "Epoch 00054: LearningRateScheduler reducing learning rate to 1.0008697290627427e-05.\n",
      "99/99 [==============================] - 14s 143ms/step - loss: 0.1174 - sparse_categorical_accuracy: 0.9855 - val_loss: 0.9602 - val_sparse_categorical_accuracy: 0.7670\n",
      "Epoch 55/60\n",
      "\n",
      "Epoch 00055: LearningRateScheduler reducing learning rate to 1.0006957832501943e-05.\n",
      "99/99 [==============================] - 14s 143ms/step - loss: 0.1218 - sparse_categorical_accuracy: 0.9824 - val_loss: 0.9744 - val_sparse_categorical_accuracy: 0.7659\n",
      "Epoch 56/60\n",
      "\n",
      "Epoch 00056: LearningRateScheduler reducing learning rate to 1.0005566266001554e-05.\n",
      "99/99 [==============================] - 14s 144ms/step - loss: 0.1097 - sparse_categorical_accuracy: 0.9877 - val_loss: 0.9792 - val_sparse_categorical_accuracy: 0.7680\n",
      "Epoch 57/60\n",
      "\n",
      "Epoch 00057: LearningRateScheduler reducing learning rate to 1.0004453012801243e-05.\n",
      "99/99 [==============================] - 14s 144ms/step - loss: 0.1111 - sparse_categorical_accuracy: 0.9841 - val_loss: 0.9811 - val_sparse_categorical_accuracy: 0.7678\n",
      "Epoch 58/60\n",
      "\n",
      "Epoch 00058: LearningRateScheduler reducing learning rate to 1.0003562410240995e-05.\n",
      "99/99 [==============================] - 14s 143ms/step - loss: 0.1122 - sparse_categorical_accuracy: 0.9843 - val_loss: 0.9800 - val_sparse_categorical_accuracy: 0.7662\n",
      "Epoch 59/60\n",
      "\n",
      "Epoch 00059: LearningRateScheduler reducing learning rate to 1.0002849928192796e-05.\n",
      "99/99 [==============================] - 14s 143ms/step - loss: 0.1124 - sparse_categorical_accuracy: 0.9857 - val_loss: 0.9910 - val_sparse_categorical_accuracy: 0.7640\n",
      "Epoch 60/60\n",
      "\n",
      "Epoch 00060: LearningRateScheduler reducing learning rate to 1.0002279942554237e-05.\n",
      "99/99 [==============================] - 14s 143ms/step - loss: 0.1039 - sparse_categorical_accuracy: 0.9880 - val_loss: 0.9792 - val_sparse_categorical_accuracy: 0.7632\n"
     ]
    }
   ],
   "source": [
    "lr_schedule = tf.keras.callbacks.LearningRateScheduler(lrfn, verbose=1)\n",
    "checkpoint_path = './model.h5'\n",
    "\n",
    "model_checkpoint_callback = tf.keras.callbacks.ModelCheckpoint(\n",
    "    filepath=checkpoint_path,\n",
    "    save_weights_only=True,\n",
    "    monitor='val_sparse_categorical_accuracy',\n",
    "    mode='max',\n",
    "    save_best_only=True)\n",
    "history = model.fit(\n",
    "    get_training_dataset(), \n",
    "    validation_data=get_validation_dataset(),\n",
    "    steps_per_epoch=STEPS_PER_EPOCH1,\n",
    "    validation_steps=STEPS_PER_EPOCH2,\n",
    "    epochs=EPOCHS, \n",
    "    callbacks=[lr_schedule,model_checkpoint_callback]\n",
    ")\n",
    "model.load_weights(checkpoint_path)"
   ]
  },
  {
   "cell_type": "code",
   "execution_count": 13,
   "id": "09397045",
   "metadata": {
    "execution": {
     "iopub.execute_input": "2022-10-14T23:33:06.168461Z",
     "iopub.status.busy": "2022-10-14T23:33:06.154213Z",
     "iopub.status.idle": "2022-10-14T23:33:06.734605Z",
     "shell.execute_reply": "2022-10-14T23:33:06.735140Z",
     "shell.execute_reply.started": "2021-11-24T11:04:32.730105Z"
    },
    "papermill": {
     "duration": 2.305295,
     "end_time": "2022-10-14T23:33:06.735317",
     "exception": false,
     "start_time": "2022-10-14T23:33:04.430022",
     "status": "completed"
    },
    "tags": []
   },
   "outputs": [
    {
     "data": {
      "image/png": "[encoded data removed]",
      "text/plain": [
       "<Figure size 720x720 with 2 Axes>"
      ]
     },
     "metadata": {},
     "output_type": "display_data"
    }
   ],
   "source": [
    "display_training_curves(history.history['loss'], history.history['loss'], 'loss', 211)\n",
    "display_training_curves(history.history['sparse_categorical_accuracy'], history.history['sparse_categorical_accuracy'], 'accuracy', 212)"
   ]
  },
  {
   "cell_type": "markdown",
   "id": "0f22b872",
   "metadata": {
    "papermill": {
     "duration": 1.753374,
     "end_time": "2022-10-14T23:33:10.226154",
     "exception": false,
     "start_time": "2022-10-14T23:33:08.472780",
     "status": "completed"
    },
    "tags": []
   },
   "source": [
    "# Predictions"
   ]
  },
  {
   "cell_type": "code",
   "execution_count": 14,
   "id": "c4a8f5de",
   "metadata": {
    "execution": {
     "iopub.execute_input": "2022-10-14T23:33:13.736702Z",
     "iopub.status.busy": "2022-10-14T23:33:13.735727Z",
     "iopub.status.idle": "2022-10-14T23:33:43.568273Z",
     "shell.execute_reply": "2022-10-14T23:33:43.567197Z",
     "shell.execute_reply.started": "2021-11-24T11:04:33.17082Z"
    },
    "papermill": {
     "duration": 31.565,
     "end_time": "2022-10-14T23:33:43.568476",
     "exception": false,
     "start_time": "2022-10-14T23:33:12.003476",
     "status": "completed"
    },
    "tags": []
   },
   "outputs": [
    {
     "name": "stdout",
     "output_type": "stream",
     "text": [
      "Computing predictions...\n",
      "[67 28 83 ... 28 53 53]\n",
      "Generating submission.csv file...\n"
     ]
    },
    {
     "name": "stderr",
     "output_type": "stream",
     "text": [
      "2022-10-14 23:33:42.815182: W ./tensorflow/core/distributed_runtime/eager/destroy_tensor_handle_node.h:57] Ignoring an error encountered when deleting remote tensors handles: Invalid argument: Unable to find the relevant tensor remote_handle: Op ID: 266982, Output num: 0\n",
      "Additional GRPC error information from remote target /job:worker/replica:0/task:0:\n",
      ":{\"created\":\"@1665790422.811651353\",\"description\":\"Error received from peer ipv4:10.0.0.2:8470\",\"file\":\"external/com_github_grpc_grpc/src/core/lib/surface/call.cc\",\"file_line\":1056,\"grpc_message\":\"Unable to find the relevant tensor remote_handle: Op ID: 266982, Output num: 0\",\"grpc_status\":3}\n"
     ]
    }
   ],
   "source": [
    "test_ds = get_test_dataset(ordered=True) # since we are splitting the dataset and iterating separately on images and ids, order matters.\n",
    "\n",
    "print('Computing predictions...')\n",
    "test_images_ds = test_ds.map(lambda image, idnum: image)\n",
    "probabilities = model.predict(test_images_ds)\n",
    "predictions = np.argmax(probabilities, axis=-1)\n",
    "print(predictions)\n",
    "\n",
    "print('Generating submission.csv file...')\n",
    "test_ids_ds = test_ds.map(lambda image, idnum: idnum).unbatch()\n",
    "test_ids = next(iter(test_ids_ds.batch(NUM_TEST_IMAGES))).numpy().astype('U') # all in one batch\n",
    "np.savetxt('submission.csv', np.rec.fromarrays([test_ids, predictions]), fmt=['%s', '%d'], delimiter=',', header='id,label', comments='')"
   ]
  }
 ],
 "metadata": {
  "kernelspec": {
   "display_name": "Python 3",
   "language": "python",
   "name": "python3"
  },
  "language_info": {
   "codemirror_mode": {
    "name": "ipython",
    "version": 3
   },
   "file_extension": ".py",
   "mimetype": "text/x-python",
   "name": "python",
   "nbconvert_exporter": "python",
   "pygments_lexer": "ipython3",
   "version": "3.7.10"
  },
  "papermill": {
   "default_parameters": {},
   "duration": 1171.442208,
   "end_time": "2022-10-14T23:33:48.487850",
   "environment_variables": {},
   "exception": null,
   "input_path": "__notebook__.ipynb",
   "output_path": "__notebook__.ipynb",
   "parameters": {},
   "start_time": "2022-10-14T23:14:17.045642",
   "version": "2.3.3"
  }
 },
 "nbformat": 4,
 "nbformat_minor": 5
}
