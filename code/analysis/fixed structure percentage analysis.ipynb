{
  "nbformat": 4,
  "nbformat_minor": 0,
  "metadata": {
    "colab": {
      "provenance": [],
      "authorship_tag": "ABX9TyN74lcK8VjA/+qXFV/E0xC2",
      "include_colab_link": true
    },
    "kernelspec": {
      "name": "python3",
      "display_name": "Python 3"
    },
    "language_info": {
      "name": "python"
    }
  },
  "cells": [
    {
      "cell_type": "markdown",
      "metadata": {
        "id": "view-in-github",
        "colab_type": "text"
      },
      "source": [
        "<a href=\"https://colab.research.google.com/github/MohmedAAK/Multi-filter-layer/blob/main/code/fixed%20structure%20percentage%20analysis.ipynb\" target=\"_parent\"><img src=\"https://colab.research.google.com/assets/colab-badge.svg\" alt=\"Open In Colab\"/></a>"
      ]
    },
    {
      "cell_type": "code",
      "execution_count": null,
      "metadata": {
        "colab": {
          "base_uri": "https://localhost:8080/"
        },
        "id": "IvwDk7q0uXS5",
        "outputId": "d6c0b3de-a54e-4119-fd51-569f23f1e711"
      },
      "outputs": [
        {
          "output_type": "stream",
          "name": "stdout",
          "text": [
            "Looking in indexes: https://pypi.org/simple, https://us-python.pkg.dev/colab-wheels/public/simple/\n",
            "Collecting visualkeras\n",
            "  Downloading visualkeras-0.0.2-py3-none-any.whl (12 kB)\n",
            "Requirement already satisfied: pillow>=6.2.0 in /usr/local/lib/python3.10/dist-packages (from visualkeras) (8.4.0)\n",
            "Requirement already satisfied: numpy>=1.18.1 in /usr/local/lib/python3.10/dist-packages (from visualkeras) (1.22.4)\n",
            "Collecting aggdraw>=1.3.11 (from visualkeras)\n",
            "  Downloading aggdraw-1.3.16-cp310-cp310-manylinux_2_17_x86_64.manylinux2014_x86_64.whl (993 kB)\n",
            "\u001b[2K     \u001b[90m━━━━━━━━━━━━━━━━━━━━━━━━━━━━━━━━━━━━━━\u001b[0m \u001b[32m993.0/993.0 kB\u001b[0m \u001b[31m21.4 MB/s\u001b[0m eta \u001b[36m0:00:00\u001b[0m\n",
            "\u001b[?25hInstalling collected packages: aggdraw, visualkeras\n",
            "Successfully installed aggdraw-1.3.16 visualkeras-0.0.2\n"
          ]
        }
      ],
      "source": [
        "pip install visualkeras"
      ]
    },
    {
      "cell_type": "code",
      "source": [
        "import cv2\n",
        "import numpy as np\n",
        "import os\n",
        "from tensorflow.keras.preprocessing.image import ImageDataGenerator\n",
        "from tensorflow.keras import backend as K\n",
        "import tensorflow.keras\n",
        "from tensorflow.keras.models import Sequential, Model,load_model\n",
        "#from keras.optimizers import SGD\n",
        "from tensorflow.keras.callbacks import EarlyStopping,ModelCheckpoint\n",
        "from tensorflow.keras.layers import Input, Add, Dense, Activation, ZeroPadding2D, BatchNormalization, Flatten, Conv2D, AveragePooling2D, MaxPooling2D, GlobalMaxPooling2D,MaxPool2D,Concatenate\n",
        "from tensorflow.keras.preprocessing import image\n",
        "from tensorflow.keras.initializers import glorot_uniform\n",
        "\n",
        "def Conv2D_M_filters_id(X_1,F,conv_name_base,pad,strid,mm1,mm2,mm3):\n",
        "    f1=int(F*mm1)\n",
        "    f2=int(F*mm2)\n",
        "    f3=int(F*mm3)\n",
        "    remain=F-(f1+f2+f3)\n",
        "    f1+=remain\n",
        "    X1=None\n",
        "    X2=None\n",
        "    if pad=='same':\n",
        "            if f3!=0:\n",
        "                X1= Conv2D(filters=f3, kernel_size=(7, 7), strides=strid, padding='same', name=conv_name_base +\"2b2-7x7\", kernel_initializer=glorot_uniform(seed=0))(X_1)\n",
        "            if f2!=0:\n",
        "                X2= Conv2D(filters=f2, kernel_size=(5, 5), strides=strid, padding='same', name=conv_name_base + '2b3-5x5', kernel_initializer=glorot_uniform(seed=0))(X_1)\n",
        "            X3= Conv2D(filters=f1, kernel_size=(3, 3), strides=strid, padding='same', name=conv_name_base+\"-3x3\" , kernel_initializer=glorot_uniform(seed=0))(X_1)\n",
        "    else:\n",
        "        if strid==(1,1):\n",
        "            if f3!=0:\n",
        "                X1= Conv2D(filters=f3, kernel_size=(7, 7), strides=strid, padding='valid', name=conv_name_base + '2b2-7x7', kernel_initializer=glorot_uniform(seed=0))(X_1)\n",
        "                X1=ZeroPadding2D(padding=2)(X1)\n",
        "            if f2!=0:\n",
        "                X2= Conv2D(filters=f2, kernel_size=(5, 5), strides=strid, padding='valid', name=conv_name_base + '2b3-5x5', kernel_initializer=glorot_uniform(seed=0))(X_1)\n",
        "                X2=ZeroPadding2D(padding=1)(X2)\n",
        "            X3= Conv2D(filters=f1, kernel_size=(3, 3), strides=strid, padding='valid', name=conv_name_base+\"-3x3\" , kernel_initializer=glorot_uniform(seed=0))(X_1)\n",
        "        else:\n",
        "            if f3!=0:\n",
        "                X1= Conv2D(filters=f3, kernel_size=(7, 7), strides=strid, padding='valid', name=conv_name_base + '2b2-7x7', kernel_initializer=glorot_uniform(seed=0))(X_1)\n",
        "                X1=ZeroPadding2D(padding=1)(X1)\n",
        "            if f2!=0:\n",
        "                X2= Conv2D(filters=f2, kernel_size=(5, 5), strides=strid, padding='valid', name=conv_name_base + '2b3-5x5', kernel_initializer=glorot_uniform(seed=0))(X_1)\n",
        "                X2=ZeroPadding2D(padding=((0, 1), (0, 1)))(X2)#((top_pad, bottom_pad), (left_pad, right_pad))\n",
        "            X3= Conv2D(filters=f1, kernel_size=(3, 3), strides=strid, padding='valid', name=conv_name_base+\"-3x3\" , kernel_initializer=glorot_uniform(seed=0))(X_1)\n",
        "\n",
        "    if f3!=0:\n",
        "        X=Concatenate(axis=-1)([X1,X2,X3])\n",
        "    elif f2!=0:\n",
        "        X=Concatenate(axis=-1)([X2,X3])\n",
        "    else:\n",
        "        X=X3\n",
        "    return X\n",
        "def insert_layer_nonseq(model, mm1,mm2,mm3,position='replace'):\n",
        "    filter_name={}\n",
        "    padding={}\n",
        "    names=[]\n",
        "    strid_={}\n",
        "    for i in model.layers:\n",
        "        layer_type = type(i).__name__\n",
        "        if layer_type== 'Conv2D' and i.kernel_size == (3,3):\n",
        "            filter_name[i.name]=i.filters\n",
        "            padding[i.name]=i.padding\n",
        "            names.append(i.name)\n",
        "            strid_[i.name]=i.strides\n",
        "      # Auxiliary dictionary to describe the network graph\n",
        "        network_dict = {'input_layers_of': {}, 'new_output_tensor_of': {}}\n",
        "\n",
        "    # Set the input layers of each layer\n",
        "    for layer in model.layers:\n",
        "        for node in layer._outbound_nodes:\n",
        "            layer_name = node.outbound_layer.name\n",
        "            if layer_name not in network_dict['input_layers_of']:\n",
        "                network_dict['input_layers_of'].update(\n",
        "                        {layer_name: [layer.name]})\n",
        "            else:\n",
        "                network_dict['input_layers_of'][layer_name].append(layer.name)\n",
        "\n",
        "    # Set the output tensor of the input layer\n",
        "    network_dict['new_output_tensor_of'].update(\n",
        "            {model.layers[0].name: model.input})\n",
        "\n",
        "    # Iterate over all layers after the input\n",
        "    x = None\n",
        "    for layer in model.layers[1:]:\n",
        "\n",
        "        # Determine input tensors\n",
        "        layer_input = [network_dict['new_output_tensor_of'][layer_aux]\n",
        "                for layer_aux in network_dict['input_layers_of'][layer.name]]\n",
        "        if len(layer_input) == 1:\n",
        "            layer_input = layer_input[0]\n",
        "\n",
        "        # Insert layer if name matches the regular expression\n",
        "        if  layer.name in names :\n",
        "            if position == 'replace':\n",
        "                x = layer_input\n",
        "            elif position == 'after':\n",
        "                x = layer(layer_input)\n",
        "            elif position == 'before':\n",
        "                pass\n",
        "            else:\n",
        "                raise ValueError('position must be: before, after or replace')\n",
        "            print(layer.filters,layer.strides,layer.padding,layer.kernel_size)\n",
        "            new_layer = Conv2D_M_filters_id(x,filter_name[layer.name],layer.name,pad=padding[layer.name],strid=strid_[layer.name],mm1=mm1,mm2=mm2,mm3=mm3)\n",
        "            x = new_layer#(x)\n",
        "            print('New layer: {} Old layer: {} Type: {}'.format(new_layer.name,\n",
        "                                                            layer.name, position))\n",
        "            if position == 'before':\n",
        "                x = layer(x)\n",
        "        else:\n",
        "            x = layer(layer_input)\n",
        "\n",
        "        # Set new output tensor (the original one, or the one of the inserted\n",
        "        # layer)\n",
        "        network_dict['new_output_tensor_of'].update({layer.name: x})\n",
        "\n",
        "        # Save tensor in output list if it is output in initial model\n",
        "        #if layer_name in model.output_names:\n",
        "        #    model_outputs.append(x)\n",
        "\n",
        "    return Model(inputs=model.inputs, outputs=x)"
      ],
      "metadata": {
        "id": "_niFDg4FuhXu"
      },
      "execution_count": null,
      "outputs": []
    },
    {
      "cell_type": "code",
      "source": [
        "# Need this line so Google will recite some incantations\n",
        "# for Turing to magically load the model onto the TPU\n",
        "#with strategy.scope():\n",
        "import tensorflow.keras.backend as K\n",
        "from tensorflow.keras.applications import DenseNet201,DenseNet121,DenseNet169,ResNet152,ResNet101,ResNet50\n",
        "import tensorflow as tf\n",
        "rnet3 = ResNet50(input_shape=(224, 224, 3),weights=None,include_top=False)\n",
        "rnet4 = ResNet101(input_shape=(224, 224, 3),weights=None,include_top=False)\n",
        "rnet5 = ResNet152(input_shape=(224, 224, 3),weights=None,include_top=False)\n",
        "models=[rnet3,rnet4,rnet5]\n",
        "\n",
        "#\n",
        "rnet=models[0]\n",
        "model1 = tf.keras.Sequential([\n",
        "    rnet,\n",
        "    tf.keras.layers.GlobalAveragePooling2D(),\n",
        "    tf.keras.layers.Dense(7, activation='softmax')\n",
        "])\n",
        "#rnet.save_weights(\"we.h5\")\n",
        "rnet=insert_layer_nonseq(rnet,0.75,0.20,0.05)\n",
        "#rnet.load_weights(\"we.h5\",by_name=True,skip_mismatch=True)\n",
        "model2 = tf.keras.Sequential([\n",
        "    rnet,\n",
        "    tf.keras.layers.GlobalAveragePooling2D(),\n",
        "    tf.keras.layers.Dense(7, activation='softmax')\n",
        "])\n",
        "\n",
        "model1.summary()\n",
        "model2.summary()"
      ],
      "metadata": {
        "colab": {
          "base_uri": "https://localhost:8080/"
        },
        "id": "bL-O33u_urND",
        "outputId": "273366ea-c212-4ee1-acfd-c02d07f2d8fb"
      },
      "execution_count": null,
      "outputs": [
        {
          "output_type": "stream",
          "name": "stdout",
          "text": [
            "64 (1, 1) same (3, 3)\n",
            "New layer: concatenate_39/concat:0 Old layer: conv2_block1_2_conv Type: replace\n",
            "64 (1, 1) same (3, 3)\n",
            "New layer: concatenate_40/concat:0 Old layer: conv2_block2_2_conv Type: replace\n",
            "64 (1, 1) same (3, 3)\n",
            "New layer: concatenate_41/concat:0 Old layer: conv2_block3_2_conv Type: replace\n",
            "128 (1, 1) same (3, 3)\n",
            "New layer: concatenate_42/concat:0 Old layer: conv3_block1_2_conv Type: replace\n",
            "128 (1, 1) same (3, 3)\n",
            "New layer: concatenate_43/concat:0 Old layer: conv3_block2_2_conv Type: replace\n",
            "128 (1, 1) same (3, 3)\n",
            "New layer: concatenate_44/concat:0 Old layer: conv3_block3_2_conv Type: replace\n",
            "128 (1, 1) same (3, 3)\n",
            "New layer: concatenate_45/concat:0 Old layer: conv3_block4_2_conv Type: replace\n",
            "256 (1, 1) same (3, 3)\n",
            "New layer: concatenate_46/concat:0 Old layer: conv4_block1_2_conv Type: replace\n",
            "256 (1, 1) same (3, 3)\n",
            "New layer: concatenate_47/concat:0 Old layer: conv4_block2_2_conv Type: replace\n",
            "256 (1, 1) same (3, 3)\n",
            "New layer: concatenate_48/concat:0 Old layer: conv4_block3_2_conv Type: replace\n",
            "256 (1, 1) same (3, 3)\n",
            "New layer: concatenate_49/concat:0 Old layer: conv4_block4_2_conv Type: replace\n",
            "256 (1, 1) same (3, 3)\n",
            "New layer: concatenate_50/concat:0 Old layer: conv4_block5_2_conv Type: replace\n",
            "256 (1, 1) same (3, 3)\n",
            "New layer: concatenate_51/concat:0 Old layer: conv4_block6_2_conv Type: replace\n",
            "512 (1, 1) same (3, 3)\n",
            "New layer: concatenate_52/concat:0 Old layer: conv5_block1_2_conv Type: replace\n",
            "512 (1, 1) same (3, 3)\n",
            "New layer: concatenate_53/concat:0 Old layer: conv5_block2_2_conv Type: replace\n",
            "512 (1, 1) same (3, 3)\n",
            "New layer: concatenate_54/concat:0 Old layer: conv5_block3_2_conv Type: replace\n",
            "Model: \"sequential_17\"\n",
            "_________________________________________________________________\n",
            " Layer (type)                Output Shape              Param #   \n",
            "=================================================================\n",
            " resnet50 (Functional)       (None, 7, 7, 2048)        23587712  \n",
            "                                                                 \n",
            " global_average_pooling2d_4   (None, 2048)             0         \n",
            " (GlobalAveragePooling2D)                                        \n",
            "                                                                 \n",
            " dense_17 (Dense)            (None, 7)                 14343     \n",
            "                                                                 \n",
            "=================================================================\n",
            "Total params: 23,602,055\n",
            "Trainable params: 23,548,935\n",
            "Non-trainable params: 53,120\n",
            "_________________________________________________________________\n",
            "Model: \"sequential_18\"\n",
            "_________________________________________________________________\n",
            " Layer (type)                Output Shape              Param #   \n",
            "=================================================================\n",
            " model_22 (Functional)       (None, 7, 7, 2048)        30008704  \n",
            "                                                                 \n",
            " global_average_pooling2d_5   (None, 2048)             0         \n",
            " (GlobalAveragePooling2D)                                        \n",
            "                                                                 \n",
            " dense_18 (Dense)            (None, 7)                 14343     \n",
            "                                                                 \n",
            "=================================================================\n",
            "Total params: 30,023,047\n",
            "Trainable params: 29,969,927\n",
            "Non-trainable params: 53,120\n",
            "_________________________________________________________________\n"
          ]
        }
      ]
    },
    {
      "cell_type": "code",
      "source": [
        "trainable_count1 = np.sum([K.count_params(w) for w in model1.trainable_weights])\n",
        "trainable_count2 = np.sum([K.count_params(w) for w in model2.trainable_weights])\n",
        "print(trainable_count1,trainable_count2)\n",
        "print(((trainable_count2-trainable_count1)/trainable_count1)*100)"
      ],
      "metadata": {
        "colab": {
          "base_uri": "https://localhost:8080/"
        },
        "id": "NN5F-MZyutxK",
        "outputId": "4036fe14-42bc-485b-9c86-0f7dad97c9f2"
      },
      "execution_count": null,
      "outputs": [
        {
          "output_type": "stream",
          "name": "stdout",
          "text": [
            "23548935 29969927\n",
            "27.266591886214815\n"
          ]
        }
      ]
    },
    {
      "cell_type": "code",
      "source": [
        "from numpy.lib.arraypad import pad\n",
        "model = Sequential()\n",
        "model.add(Input((224, 224, 3)))\n",
        "model.add(Conv2D(64, (5, 5), padding='same',activation='relu',name=\"conv2d_3x3\"))\n",
        "model.add(Flatten())\n",
        "model.add(Dense(2, activation='softmax'))"
      ],
      "metadata": {
        "id": "PONEGNhR06VV"
      },
      "execution_count": null,
      "outputs": []
    },
    {
      "cell_type": "code",
      "source": [
        "x1 = model.layers[-1].output\n",
        "model = Model(inputs = model.input, outputs = x1)"
      ],
      "metadata": {
        "id": "sHl3Agm34Gx2"
      },
      "execution_count": null,
      "outputs": []
    },
    {
      "cell_type": "code",
      "source": [
        "F=64\n",
        "f1=int(F*0.75)\n",
        "f2=int(F*0.20)\n",
        "f3=int(F*0.05)\n",
        "X_input = Input((224, 224, 3))\n",
        "X1= Conv2D(filters=f3, kernel_size=(7, 7),activation='relu' , padding='same',name=\"conv2d_7x7\")(X_input)\n",
        "X2= Conv2D(filters=f2, kernel_size=(5, 5),activation='relu', padding='same' ,name=\"conv2d_5x5\")(X_input)\n",
        "X3= Conv2D(filters=f1, kernel_size=(3, 3),activation='relu', padding='same' ,name=\"conv2d_3x3\")(X_input)\n",
        "X=Concatenate(axis=-1)([X1,X2,X3])\n",
        "X=Flatten()(X)\n",
        "X=Dense(2, activation='softmax')(X)"
      ],
      "metadata": {
        "id": "p9p9-gFb6ovF"
      },
      "execution_count": null,
      "outputs": []
    },
    {
      "cell_type": "code",
      "source": [
        "model_ = Model(inputs = X_input, outputs = X )"
      ],
      "metadata": {
        "id": "zUn7HY1L7XYe"
      },
      "execution_count": null,
      "outputs": []
    },
    {
      "cell_type": "code",
      "source": [
        "#x1 = model.layers[-1].output\n",
        "#model = Model(inputs = model.input, outputs = x1)"
      ],
      "metadata": {
        "id": "ucBj5bpCycUz"
      },
      "execution_count": null,
      "outputs": []
    },
    {
      "cell_type": "code",
      "source": [
        "from keras.models import Sequential\n",
        "from keras.layers import Dense\n",
        "from keras.utils.vis_utils import plot_model\n",
        "plot_model(model, to_file='model_before.png', show_shapes=True, show_layer_names=True,dpi=300)"
      ],
      "metadata": {
        "id": "UPuZto3Kw3Uq"
      },
      "execution_count": null,
      "outputs": []
    },
    {
      "cell_type": "code",
      "source": [
        "# Import pandas\n",
        "import pandas as pd\n",
        "# reading csv file\n",
        "df=pd.read_csv(\"/content/models_percentage.csv\")\n",
        "df=df[['layers', 'percentage3x3',\"percentage_increase\"]]\n",
        "df"
      ],
      "metadata": {
        "colab": {
          "base_uri": "https://localhost:8080/",
          "height": 424
        },
        "id": "NoxfB-HKGZk2",
        "outputId": "618cebf0-6e1f-45c7-862c-36eedc685934"
      },
      "execution_count": null,
      "outputs": [
        {
          "output_type": "execute_result",
          "data": {
            "text/plain": [
              "     layers  percentage3x3  percentage_increase\n",
              "0        18             50           112.718796\n",
              "1        18             51           110.732118\n",
              "2        18             52           108.388387\n",
              "3        18             53           106.401710\n",
              "4        18             54           103.806211\n",
              "..      ...            ...                  ...\n",
              "403     201             96             1.125791\n",
              "404     201             97             0.017320\n",
              "405     201             98             0.017320\n",
              "406     201             99             0.017320\n",
              "407     201            100             0.017320\n",
              "\n",
              "[408 rows x 3 columns]"
            ],
            "text/html": [
              "\n",
              "  <div id=\"df-b09910f2-e6ef-45f9-a333-0369340d813b\">\n",
              "    <div class=\"colab-df-container\">\n",
              "      <div>\n",
              "<style scoped>\n",
              "    .dataframe tbody tr th:only-of-type {\n",
              "        vertical-align: middle;\n",
              "    }\n",
              "\n",
              "    .dataframe tbody tr th {\n",
              "        vertical-align: top;\n",
              "    }\n",
              "\n",
              "    .dataframe thead th {\n",
              "        text-align: right;\n",
              "    }\n",
              "</style>\n",
              "<table border=\"1\" class=\"dataframe\">\n",
              "  <thead>\n",
              "    <tr style=\"text-align: right;\">\n",
              "      <th></th>\n",
              "      <th>layers</th>\n",
              "      <th>percentage3x3</th>\n",
              "      <th>percentage_increase</th>\n",
              "    </tr>\n",
              "  </thead>\n",
              "  <tbody>\n",
              "    <tr>\n",
              "      <th>0</th>\n",
              "      <td>18</td>\n",
              "      <td>50</td>\n",
              "      <td>112.718796</td>\n",
              "    </tr>\n",
              "    <tr>\n",
              "      <th>1</th>\n",
              "      <td>18</td>\n",
              "      <td>51</td>\n",
              "      <td>110.732118</td>\n",
              "    </tr>\n",
              "    <tr>\n",
              "      <th>2</th>\n",
              "      <td>18</td>\n",
              "      <td>52</td>\n",
              "      <td>108.388387</td>\n",
              "    </tr>\n",
              "    <tr>\n",
              "      <th>3</th>\n",
              "      <td>18</td>\n",
              "      <td>53</td>\n",
              "      <td>106.401710</td>\n",
              "    </tr>\n",
              "    <tr>\n",
              "      <th>4</th>\n",
              "      <td>18</td>\n",
              "      <td>54</td>\n",
              "      <td>103.806211</td>\n",
              "    </tr>\n",
              "    <tr>\n",
              "      <th>...</th>\n",
              "      <td>...</td>\n",
              "      <td>...</td>\n",
              "      <td>...</td>\n",
              "    </tr>\n",
              "    <tr>\n",
              "      <th>403</th>\n",
              "      <td>201</td>\n",
              "      <td>96</td>\n",
              "      <td>1.125791</td>\n",
              "    </tr>\n",
              "    <tr>\n",
              "      <th>404</th>\n",
              "      <td>201</td>\n",
              "      <td>97</td>\n",
              "      <td>0.017320</td>\n",
              "    </tr>\n",
              "    <tr>\n",
              "      <th>405</th>\n",
              "      <td>201</td>\n",
              "      <td>98</td>\n",
              "      <td>0.017320</td>\n",
              "    </tr>\n",
              "    <tr>\n",
              "      <th>406</th>\n",
              "      <td>201</td>\n",
              "      <td>99</td>\n",
              "      <td>0.017320</td>\n",
              "    </tr>\n",
              "    <tr>\n",
              "      <th>407</th>\n",
              "      <td>201</td>\n",
              "      <td>100</td>\n",
              "      <td>0.017320</td>\n",
              "    </tr>\n",
              "  </tbody>\n",
              "</table>\n",
              "<p>408 rows × 3 columns</p>\n",
              "</div>\n",
              "      <button class=\"colab-df-convert\" onclick=\"convertToInteractive('df-b09910f2-e6ef-45f9-a333-0369340d813b')\"\n",
              "              title=\"Convert this dataframe to an interactive table.\"\n",
              "              style=\"display:none;\">\n",
              "        \n",
              "  <svg xmlns=\"http://www.w3.org/2000/svg\" height=\"24px\"viewBox=\"0 0 24 24\"\n",
              "       width=\"24px\">\n",
              "    <path d=\"M0 0h24v24H0V0z\" fill=\"none\"/>\n",
              "    <path d=\"M18.56 5.44l.94 2.06.94-2.06 2.06-.94-2.06-.94-.94-2.06-.94 2.06-2.06.94zm-11 1L8.5 8.5l.94-2.06 2.06-.94-2.06-.94L8.5 2.5l-.94 2.06-2.06.94zm10 10l.94 2.06.94-2.06 2.06-.94-2.06-.94-.94-2.06-.94 2.06-2.06.94z\"/><path d=\"M17.41 7.96l-1.37-1.37c-.4-.4-.92-.59-1.43-.59-.52 0-1.04.2-1.43.59L10.3 9.45l-7.72 7.72c-.78.78-.78 2.05 0 2.83L4 21.41c.39.39.9.59 1.41.59.51 0 1.02-.2 1.41-.59l7.78-7.78 2.81-2.81c.8-.78.8-2.07 0-2.86zM5.41 20L4 18.59l7.72-7.72 1.47 1.35L5.41 20z\"/>\n",
              "  </svg>\n",
              "      </button>\n",
              "      \n",
              "  <style>\n",
              "    .colab-df-container {\n",
              "      display:flex;\n",
              "      flex-wrap:wrap;\n",
              "      gap: 12px;\n",
              "    }\n",
              "\n",
              "    .colab-df-convert {\n",
              "      background-color: #E8F0FE;\n",
              "      border: none;\n",
              "      border-radius: 50%;\n",
              "      cursor: pointer;\n",
              "      display: none;\n",
              "      fill: #1967D2;\n",
              "      height: 32px;\n",
              "      padding: 0 0 0 0;\n",
              "      width: 32px;\n",
              "    }\n",
              "\n",
              "    .colab-df-convert:hover {\n",
              "      background-color: #E2EBFA;\n",
              "      box-shadow: 0px 1px 2px rgba(60, 64, 67, 0.3), 0px 1px 3px 1px rgba(60, 64, 67, 0.15);\n",
              "      fill: #174EA6;\n",
              "    }\n",
              "\n",
              "    [theme=dark] .colab-df-convert {\n",
              "      background-color: #3B4455;\n",
              "      fill: #D2E3FC;\n",
              "    }\n",
              "\n",
              "    [theme=dark] .colab-df-convert:hover {\n",
              "      background-color: #434B5C;\n",
              "      box-shadow: 0px 1px 3px 1px rgba(0, 0, 0, 0.15);\n",
              "      filter: drop-shadow(0px 1px 2px rgba(0, 0, 0, 0.3));\n",
              "      fill: #FFFFFF;\n",
              "    }\n",
              "  </style>\n",
              "\n",
              "      <script>\n",
              "        const buttonEl =\n",
              "          document.querySelector('#df-b09910f2-e6ef-45f9-a333-0369340d813b button.colab-df-convert');\n",
              "        buttonEl.style.display =\n",
              "          google.colab.kernel.accessAllowed ? 'block' : 'none';\n",
              "\n",
              "        async function convertToInteractive(key) {\n",
              "          const element = document.querySelector('#df-b09910f2-e6ef-45f9-a333-0369340d813b');\n",
              "          const dataTable =\n",
              "            await google.colab.kernel.invokeFunction('convertToInteractive',\n",
              "                                                     [key], {});\n",
              "          if (!dataTable) return;\n",
              "\n",
              "          const docLinkHtml = 'Like what you see? Visit the ' +\n",
              "            '<a target=\"_blank\" href=https://colab.research.google.com/notebooks/data_table.ipynb>data table notebook</a>'\n",
              "            + ' to learn more about interactive tables.';\n",
              "          element.innerHTML = '';\n",
              "          dataTable['output_type'] = 'display_data';\n",
              "          await google.colab.output.renderOutput(dataTable, element);\n",
              "          const docLink = document.createElement('div');\n",
              "          docLink.innerHTML = docLinkHtml;\n",
              "          element.appendChild(docLink);\n",
              "        }\n",
              "      </script>\n",
              "    </div>\n",
              "  </div>\n",
              "  "
            ]
          },
          "metadata": {},
          "execution_count": 131
        }
      ]
    },
    {
      "cell_type": "code",
      "source": [
        "df_res_den=df[df['layers'] >40 ]\n",
        "\n",
        "# replacing value of DataFrame\n",
        "df_res_den.layers[df_res_den.layers == 50] = 'ResNet50'\n",
        "df_res_den.layers[df_res_den.layers == 101] = 'ResNet101'\n",
        "df_res_den.layers[df_res_den.layers == 152] = 'ResNet152'\n",
        "df_res_den.layers[df_res_den.layers == 121] = 'DenseNet121'\n",
        "df_res_den.layers[df_res_den.layers == 169] = 'DenseNet169'\n",
        "df_res_den.layers[df_res_den.layers == 201] = 'DenseNet201'"
      ],
      "metadata": {
        "colab": {
          "base_uri": "https://localhost:8080/"
        },
        "id": "xUr6c1GDRcM6",
        "outputId": "b4924f7d-00ab-4818-a020-6786f8683dba"
      },
      "execution_count": null,
      "outputs": [
        {
          "output_type": "stream",
          "name": "stderr",
          "text": [
            "<ipython-input-176-20198be6136a>:4: SettingWithCopyWarning: \n",
            "A value is trying to be set on a copy of a slice from a DataFrame\n",
            "\n",
            "See the caveats in the documentation: https://pandas.pydata.org/pandas-docs/stable/user_guide/indexing.html#returning-a-view-versus-a-copy\n",
            "  df_res_den.layers[df_res_den.layers == 50] = 'ResNet50'\n",
            "<ipython-input-176-20198be6136a>:4: SettingWithCopyWarning: \n",
            "A value is trying to be set on a copy of a slice from a DataFrame\n",
            "\n",
            "See the caveats in the documentation: https://pandas.pydata.org/pandas-docs/stable/user_guide/indexing.html#returning-a-view-versus-a-copy\n",
            "  df_res_den.layers[df_res_den.layers == 50] = 'ResNet50'\n",
            "<ipython-input-176-20198be6136a>:5: SettingWithCopyWarning: \n",
            "A value is trying to be set on a copy of a slice from a DataFrame\n",
            "\n",
            "See the caveats in the documentation: https://pandas.pydata.org/pandas-docs/stable/user_guide/indexing.html#returning-a-view-versus-a-copy\n",
            "  df_res_den.layers[df_res_den.layers == 101] = 'ResNet101'\n",
            "<ipython-input-176-20198be6136a>:5: SettingWithCopyWarning: \n",
            "A value is trying to be set on a copy of a slice from a DataFrame\n",
            "\n",
            "See the caveats in the documentation: https://pandas.pydata.org/pandas-docs/stable/user_guide/indexing.html#returning-a-view-versus-a-copy\n",
            "  df_res_den.layers[df_res_den.layers == 101] = 'ResNet101'\n",
            "<ipython-input-176-20198be6136a>:6: SettingWithCopyWarning: \n",
            "A value is trying to be set on a copy of a slice from a DataFrame\n",
            "\n",
            "See the caveats in the documentation: https://pandas.pydata.org/pandas-docs/stable/user_guide/indexing.html#returning-a-view-versus-a-copy\n",
            "  df_res_den.layers[df_res_den.layers == 152] = 'ResNet152'\n",
            "<ipython-input-176-20198be6136a>:6: SettingWithCopyWarning: \n",
            "A value is trying to be set on a copy of a slice from a DataFrame\n",
            "\n",
            "See the caveats in the documentation: https://pandas.pydata.org/pandas-docs/stable/user_guide/indexing.html#returning-a-view-versus-a-copy\n",
            "  df_res_den.layers[df_res_den.layers == 152] = 'ResNet152'\n",
            "<ipython-input-176-20198be6136a>:7: SettingWithCopyWarning: \n",
            "A value is trying to be set on a copy of a slice from a DataFrame\n",
            "\n",
            "See the caveats in the documentation: https://pandas.pydata.org/pandas-docs/stable/user_guide/indexing.html#returning-a-view-versus-a-copy\n",
            "  df_res_den.layers[df_res_den.layers == 121] = 'DenseNet121'\n",
            "<ipython-input-176-20198be6136a>:7: SettingWithCopyWarning: \n",
            "A value is trying to be set on a copy of a slice from a DataFrame\n",
            "\n",
            "See the caveats in the documentation: https://pandas.pydata.org/pandas-docs/stable/user_guide/indexing.html#returning-a-view-versus-a-copy\n",
            "  df_res_den.layers[df_res_den.layers == 121] = 'DenseNet121'\n",
            "<ipython-input-176-20198be6136a>:8: SettingWithCopyWarning: \n",
            "A value is trying to be set on a copy of a slice from a DataFrame\n",
            "\n",
            "See the caveats in the documentation: https://pandas.pydata.org/pandas-docs/stable/user_guide/indexing.html#returning-a-view-versus-a-copy\n",
            "  df_res_den.layers[df_res_den.layers == 169] = 'DenseNet169'\n",
            "<ipython-input-176-20198be6136a>:8: SettingWithCopyWarning: \n",
            "A value is trying to be set on a copy of a slice from a DataFrame\n",
            "\n",
            "See the caveats in the documentation: https://pandas.pydata.org/pandas-docs/stable/user_guide/indexing.html#returning-a-view-versus-a-copy\n",
            "  df_res_den.layers[df_res_den.layers == 169] = 'DenseNet169'\n",
            "<ipython-input-176-20198be6136a>:9: SettingWithCopyWarning: \n",
            "A value is trying to be set on a copy of a slice from a DataFrame\n",
            "\n",
            "See the caveats in the documentation: https://pandas.pydata.org/pandas-docs/stable/user_guide/indexing.html#returning-a-view-versus-a-copy\n",
            "  df_res_den.layers[df_res_den.layers == 201] = 'DenseNet201'\n",
            "<ipython-input-176-20198be6136a>:9: SettingWithCopyWarning: \n",
            "A value is trying to be set on a copy of a slice from a DataFrame\n",
            "\n",
            "See the caveats in the documentation: https://pandas.pydata.org/pandas-docs/stable/user_guide/indexing.html#returning-a-view-versus-a-copy\n",
            "  df_res_den.layers[df_res_den.layers == 201] = 'DenseNet201'\n"
          ]
        }
      ]
    },
    {
      "cell_type": "code",
      "source": [
        "df_res=df[df['layers'] <155 ]\n",
        "df_res=df_res[df_res['layers'] !=121 ]\n",
        "df_res=df_res[df_res['layers'] >40 ]"
      ],
      "metadata": {
        "id": "NwbbN524G4E3"
      },
      "execution_count": null,
      "outputs": []
    },
    {
      "cell_type": "code",
      "source": [
        "df_dens=df[df['layers'] >120 ]\n",
        "df_dens=df_dens[df_dens['layers'] !=152 ]"
      ],
      "metadata": {
        "id": "fYjw4V6WHjP4"
      },
      "execution_count": null,
      "outputs": []
    },
    {
      "cell_type": "code",
      "source": [
        "set(list(df_res.layers))"
      ],
      "metadata": {
        "colab": {
          "base_uri": "https://localhost:8080/"
        },
        "id": "CcAsGWiiHuK3",
        "outputId": "2ee9e2dc-c43c-444e-d988-8ee4d6812e99"
      },
      "execution_count": null,
      "outputs": [
        {
          "output_type": "execute_result",
          "data": {
            "text/plain": [
              "{50, 101, 152}"
            ]
          },
          "metadata": {},
          "execution_count": 139
        }
      ]
    },
    {
      "cell_type": "code",
      "source": [
        "set(list(df_dens.layers))"
      ],
      "metadata": {
        "colab": {
          "base_uri": "https://localhost:8080/"
        },
        "id": "FVosSsJuHv0j",
        "outputId": "823f11e8-86ab-4a1d-9038-57824cdac65c"
      },
      "execution_count": null,
      "outputs": [
        {
          "output_type": "execute_result",
          "data": {
            "text/plain": [
              "{121, 169, 201}"
            ]
          },
          "metadata": {},
          "execution_count": 143
        }
      ]
    },
    {
      "cell_type": "code",
      "source": [
        "import numpy as np\n",
        "import matplotlib.pyplot as plt\n",
        "from matplotlib import cm\n",
        "from matplotlib.ticker import LinearLocator, FormatStrFormatter\n",
        "from mpl_toolkits.mplot3d import Axes3D\n",
        "# Plot using `.trisurf()`:\n",
        "fig = plt.figure()\n",
        "ax = Axes3D(fig)\n",
        "ax.plot_trisurf(df_res.layers, df_res.percentage3x3, df_res.percentage_increase, cmap=cm.jet, linewidth=0.2)\n"
      ],
      "metadata": {
        "colab": {
          "base_uri": "https://localhost:8080/",
          "height": 34
        },
        "id": "2RxANyx7Is3f",
        "outputId": "02e236ac-aabc-4a32-dca3-7bad890e3604"
      },
      "execution_count": null,
      "outputs": [
        {
          "output_type": "display_data",
          "data": {
            "text/plain": [
              "<Figure size 640x480 with 0 Axes>"
            ]
          },
          "metadata": {}
        }
      ]
    },
    {
      "cell_type": "code",
      "source": [
        "pip install seaborn"
      ],
      "metadata": {
        "id": "As37iDJfMak9"
      },
      "execution_count": null,
      "outputs": []
    },
    {
      "cell_type": "code",
      "source": [
        "import pandas as pd\n",
        "import seaborn as sns\n",
        "import matplotlib.ticker as ticker\n",
        "g = sns.catplot(x=\"percentage3x3\", y=\"percentage_increase\", hue='layers', data=df_res_den, kind='point',aspect=2.4)\n",
        "g.figure.savefig('output_figure.png',dpi=600)"
      ],
      "metadata": {
        "colab": {
          "base_uri": "https://localhost:8080/",
          "height": 362
        },
        "id": "d9xEBIjOK_gY",
        "outputId": "cfac5e62-ad26-4349-8a8d-e7acd696db09"
      },
      "execution_count": null,
      "outputs": [
        {
          "output_type": "display_data",
          "data": {
            "text/plain": [
              "<Figure size 1344.62x500 with 1 Axes>"
            ],
            "image/png": "[encoded data removed]"
          },
          "metadata": {}
        }
      ]
    },
    {
      "cell_type": "code",
      "source": [
        "! gdown 1qfB990eS6fhLoGPBHHzyyCc6cX6ciXFq"
      ],
      "metadata": {
        "colab": {
          "base_uri": "https://localhost:8080/"
        },
        "id": "tWpTWkxIo-W-",
        "outputId": "bb8aadcc-f3d9-4f61-c7c1-37b55e0a97b0"
      },
      "execution_count": null,
      "outputs": [
        {
          "output_type": "stream",
          "name": "stdout",
          "text": [
            "Access denied with the following error:\n",
            "\n",
            " \tToo many users have viewed or downloaded this file recently. Please\n",
            "\ttry accessing the file again later. If the file you are trying to\n",
            "\taccess is particularly large or is shared with many people, it may\n",
            "\ttake up to 24 hours to be able to view or download the file. If you\n",
            "\tstill can't access a file after 24 hours, contact your domain\n",
            "\tadministrator. \n",
            "\n",
            "You may still be able to access the file from the browser:\n",
            "\n",
            "\t https://drive.google.com/uc?id=1qfB990eS6fhLoGPBHHzyyCc6cX6ciXFq \n",
            "\n"
          ]
        }
      ]
    }
  ]
}
